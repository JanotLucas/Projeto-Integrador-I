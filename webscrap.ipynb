{
  "cells": [
    {
      "cell_type": "markdown",
      "metadata": {
        "id": "i2kNcbZxjID9"
      },
      "source": [
        "# Aluguel"
      ]
    },
    {
      "cell_type": "markdown",
      "metadata": {
        "id": "Uval6eZCBisw"
      },
      "source": [
        "## Pega URL\n"
      ]
    },
    {
      "cell_type": "code",
      "execution_count": 20,
      "metadata": {
        "colab": {
          "base_uri": "https://localhost:8080/"
        },
        "id": "M1cDU2iOB_cK",
        "outputId": "c0a2c2ca-c2a8-40d9-d8b8-c1ee49dbd857"
      },
      "outputs": [
        {
          "name": "stderr",
          "output_type": "stream",
          "text": [
            "Progresso: 100%|██████████| 244/244 [02:07<00:00,  1.91it/s]"
          ]
        },
        {
          "name": "stdout",
          "output_type": "stream",
          "text": [
            "                                                    URL\n",
            "0     /imovel/prdio-0-quartos-aluguel-asa-sul-brasil...\n",
            "1     /imovel/apartamento-2-quartos-aluguel-noroeste...\n",
            "2     /imovel/sala-0-quartos-aluguel-asa-norte-brasi...\n",
            "3     /imovel/galpo-0-quartos-aluguel-polo-jk-santa-...\n",
            "4     /imovel/sala-0-quartos-aluguel-asa-norte-brasi...\n",
            "...                                                 ...\n",
            "7303  /imovel/loja-0-quartos-aluguel-ceilandia-sul-c...\n",
            "7304  /imovel/galpo-0-quartos-aluguel-vicente-pires-...\n",
            "7305  /imovel/sala-0-quartos-aluguel-taguatinga-cent...\n",
            "7306  /imovel/kitnet-1-quarto-aluguel-guara-i-guara-...\n",
            "7307  /imovel/sala-0-quartos-aluguel-asa-sul-brasili...\n",
            "\n",
            "[7308 rows x 1 columns]\n"
          ]
        },
        {
          "name": "stderr",
          "output_type": "stream",
          "text": [
            "\n"
          ]
        }
      ],
      "source": [
        "import requests\n",
        "from bs4 import BeautifulSoup\n",
        "import pandas as pd\n",
        "from tqdm import tqdm\n",
        "\n",
        "# Função para extrair os URLs dos links <a> com a classe 'new-card'\n",
        "def extrair_urls_anuncios(soup):\n",
        "    # Encontra todos os elementos 'a' com a classe 'new-card'\n",
        "    links = soup.find_all('a', class_='new-card')\n",
        "    # Extrai os URLs dos links\n",
        "    urls = [link.get('href') for link in links]\n",
        "    return urls\n",
        "\n",
        "# Função para fazer o scraping de uma página e extrair os URLs dos links\n",
        "def fazer_scraping_pagina(url):\n",
        "    # Faz a requisição HTTP\n",
        "    response = requests.get(url)\n",
        "    # Verifica se a requisição foi bem-sucedida\n",
        "    if response.status_code == 200:\n",
        "        # Parseia o conteúdo HTML\n",
        "        soup = BeautifulSoup(response.text, 'html.parser')\n",
        "        # Extrai os URLs dos links\n",
        "        urls_anuncios_pagina = extrair_urls_anuncios(soup)\n",
        "        return urls_anuncios_pagina\n",
        "    else:\n",
        "        print('Falha ao acessar a página:', response.status_code)\n",
        "        return None\n",
        "\n",
        "# Função para fazer o scraping de várias páginas\n",
        "def fazer_scraping_varias_paginas(url_base, num_paginas):\n",
        "    lista_urls_anuncios_total = []\n",
        "    for pagina in tqdm(range(1, num_paginas + 1), desc=\"Progresso\"):\n",
        "        url_pagina = f\"{url_base}?pagina={pagina}\"\n",
        "        urls_anuncios_pagina = fazer_scraping_pagina(url_pagina)\n",
        "        if urls_anuncios_pagina:\n",
        "            lista_urls_anuncios_total.extend(urls_anuncios_pagina)\n",
        "    return lista_urls_anuncios_total\n",
        "\n",
        "# URL base do site de imóveis que você quer fazer scraping\n",
        "url_base = 'https://www.dfimoveis.com.br/aluguel/df/todos/imoveis'\n",
        "\n",
        "# Número total de páginas que você deseja percorrer\n",
        "num_paginas = 244 # Ajuste conforme necessário\n",
        "\n",
        "# Faz o scraping de várias páginas\n",
        "urls_anuncios_total = fazer_scraping_varias_paginas(url_base, num_paginas)\n",
        "\n",
        "# Se os URLs foram obtidos com sucesso\n",
        "if urls_anuncios_total:\n",
        "    # Cria um DataFrame com os URLs dos anúncios\n",
        "    df_link_aluguel = pd.DataFrame({'URL': urls_anuncios_total})\n",
        "    # Mostra o DataFrame\n",
        "    print(df_link_aluguel)\n"
      ]
    },
    {
      "cell_type": "markdown",
      "metadata": {
        "id": "Pd6yKPcQBbg2"
      },
      "source": [
        "## Raspagem dos anúncios"
      ]
    },
    {
      "cell_type": "code",
      "execution_count": 21,
      "metadata": {
        "colab": {
          "base_uri": "https://localhost:8080/",
          "height": 323
        },
        "id": "UZRaiEZO7TPi",
        "outputId": "638d0a6b-3fa0-441c-85fe-0ef40c9974a4"
      },
      "outputs": [
        {
          "name": "stderr",
          "output_type": "stream",
          "text": [
            "Extraindo informações dos anúncios: 100%|██████████| 7308/7308 [41:24<00:00,  2.94it/s]  \n"
          ]
        },
        {
          "data": {
            "text/html": [
              "<div>\n",
              "<style scoped>\n",
              "    .dataframe tbody tr th:only-of-type {\n",
              "        vertical-align: middle;\n",
              "    }\n",
              "\n",
              "    .dataframe tbody tr th {\n",
              "        vertical-align: top;\n",
              "    }\n",
              "\n",
              "    .dataframe thead th {\n",
              "        text-align: right;\n",
              "    }\n",
              "</style>\n",
              "<table border=\"1\" class=\"dataframe\">\n",
              "  <thead>\n",
              "    <tr style=\"text-align: right;\">\n",
              "      <th></th>\n",
              "      <th>Título</th>\n",
              "      <th>Valor</th>\n",
              "      <th>area</th>\n",
              "      <th>Valor_metro</th>\n",
              "      <th>quartos</th>\n",
              "      <th>suites</th>\n",
              "      <th>garagem</th>\n",
              "      <th>iptu</th>\n",
              "      <th>condominio</th>\n",
              "      <th>descricao</th>\n",
              "      <th>...</th>\n",
              "      <th>Salão Gourmet</th>\n",
              "      <th>Sauna</th>\n",
              "      <th>SPA</th>\n",
              "      <th>Área de Serviço Coberta</th>\n",
              "      <th>Piso em Porcelanato</th>\n",
              "      <th>Vista Livre</th>\n",
              "      <th>Home Theater</th>\n",
              "      <th>Aceita Pet</th>\n",
              "      <th>Academia</th>\n",
              "      <th>tipo</th>\n",
              "    </tr>\n",
              "  </thead>\n",
              "  <tbody>\n",
              "    <tr>\n",
              "      <th>0</th>\n",
              "      <td>SCS Quadra 06 Bloco A Lote 194</td>\n",
              "      <td>7000.0</td>\n",
              "      <td>200.0</td>\n",
              "      <td>0.028571</td>\n",
              "      <td>0</td>\n",
              "      <td>0</td>\n",
              "      <td>0</td>\n",
              "      <td>SemInformacao</td>\n",
              "      <td>2000</td>\n",
              "      <td>6º andar todo reformado, com 200 m², piso em p...</td>\n",
              "      <td>...</td>\n",
              "      <td>0</td>\n",
              "      <td>0</td>\n",
              "      <td>0</td>\n",
              "      <td>0</td>\n",
              "      <td>0</td>\n",
              "      <td>0</td>\n",
              "      <td>0</td>\n",
              "      <td>0</td>\n",
              "      <td>0</td>\n",
              "      <td>Prédio</td>\n",
              "    </tr>\n",
              "    <tr>\n",
              "      <th>1</th>\n",
              "      <td>SQNW 310 Bloco B</td>\n",
              "      <td>4900.0</td>\n",
              "      <td>76.0</td>\n",
              "      <td>0.015510</td>\n",
              "      <td>2</td>\n",
              "      <td>1</td>\n",
              "      <td>2</td>\n",
              "      <td>409</td>\n",
              "      <td>791</td>\n",
              "      <td>Excelente apartamento no condomínio Persona Ve...</td>\n",
              "      <td>...</td>\n",
              "      <td>0</td>\n",
              "      <td>1</td>\n",
              "      <td>0</td>\n",
              "      <td>0</td>\n",
              "      <td>0</td>\n",
              "      <td>0</td>\n",
              "      <td>0</td>\n",
              "      <td>0</td>\n",
              "      <td>0</td>\n",
              "      <td>Apartamento</td>\n",
              "    </tr>\n",
              "    <tr>\n",
              "      <th>2</th>\n",
              "      <td>SHN Quadra 2</td>\n",
              "      <td>27000.0</td>\n",
              "      <td>615.0</td>\n",
              "      <td>0.022778</td>\n",
              "      <td>0</td>\n",
              "      <td>0</td>\n",
              "      <td>5</td>\n",
              "      <td>SemInformacao</td>\n",
              "      <td>6183</td>\n",
              "      <td>Asa Norte, SHN Quadra 02, EXECUTIVE OFFICE, Sa...</td>\n",
              "      <td>...</td>\n",
              "      <td>0</td>\n",
              "      <td>0</td>\n",
              "      <td>0</td>\n",
              "      <td>0</td>\n",
              "      <td>0</td>\n",
              "      <td>0</td>\n",
              "      <td>0</td>\n",
              "      <td>0</td>\n",
              "      <td>0</td>\n",
              "      <td>Sala</td>\n",
              "    </tr>\n",
              "    <tr>\n",
              "      <th>3</th>\n",
              "      <td>Polo de Desenv Juscelino Kubitschek Trecho 6 C...</td>\n",
              "      <td>52000.0</td>\n",
              "      <td>2000.0</td>\n",
              "      <td>0.038462</td>\n",
              "      <td>0</td>\n",
              "      <td>0</td>\n",
              "      <td>0</td>\n",
              "      <td>SemInformacao</td>\n",
              "      <td>SemInformacao</td>\n",
              "      <td>Excelentes galpões logísticos recém reformados...</td>\n",
              "      <td>...</td>\n",
              "      <td>0</td>\n",
              "      <td>0</td>\n",
              "      <td>0</td>\n",
              "      <td>0</td>\n",
              "      <td>0</td>\n",
              "      <td>0</td>\n",
              "      <td>0</td>\n",
              "      <td>0</td>\n",
              "      <td>0</td>\n",
              "      <td>Galpão</td>\n",
              "    </tr>\n",
              "    <tr>\n",
              "      <th>4</th>\n",
              "      <td>SEPN 516 Bloco E</td>\n",
              "      <td>13830.0</td>\n",
              "      <td>147.0</td>\n",
              "      <td>0.010629</td>\n",
              "      <td>0</td>\n",
              "      <td>0</td>\n",
              "      <td>0</td>\n",
              "      <td>333</td>\n",
              "      <td>2389</td>\n",
              "      <td>Clínica médica na Asa Norte com:\\rDiversos con...</td>\n",
              "      <td>...</td>\n",
              "      <td>0</td>\n",
              "      <td>0</td>\n",
              "      <td>0</td>\n",
              "      <td>0</td>\n",
              "      <td>0</td>\n",
              "      <td>0</td>\n",
              "      <td>0</td>\n",
              "      <td>0</td>\n",
              "      <td>0</td>\n",
              "      <td>Sala</td>\n",
              "    </tr>\n",
              "    <tr>\n",
              "      <th>...</th>\n",
              "      <td>...</td>\n",
              "      <td>...</td>\n",
              "      <td>...</td>\n",
              "      <td>...</td>\n",
              "      <td>...</td>\n",
              "      <td>...</td>\n",
              "      <td>...</td>\n",
              "      <td>...</td>\n",
              "      <td>...</td>\n",
              "      <td>...</td>\n",
              "      <td>...</td>\n",
              "      <td>...</td>\n",
              "      <td>...</td>\n",
              "      <td>...</td>\n",
              "      <td>...</td>\n",
              "      <td>...</td>\n",
              "      <td>...</td>\n",
              "      <td>...</td>\n",
              "      <td>...</td>\n",
              "      <td>...</td>\n",
              "      <td>...</td>\n",
              "    </tr>\n",
              "    <tr>\n",
              "      <th>7303</th>\n",
              "      <td>QNP 32 Conjunto B</td>\n",
              "      <td>1500.0</td>\n",
              "      <td>150.0</td>\n",
              "      <td>0.100000</td>\n",
              "      <td>0</td>\n",
              "      <td>0</td>\n",
              "      <td>0</td>\n",
              "      <td>SemInformacao</td>\n",
              "      <td>SemInformacao</td>\n",
              "      <td>IMOBILIÁRIA ESTRELA DESDE 1970 – ALUGA LOJA FR...</td>\n",
              "      <td>...</td>\n",
              "      <td>0</td>\n",
              "      <td>0</td>\n",
              "      <td>0</td>\n",
              "      <td>0</td>\n",
              "      <td>0</td>\n",
              "      <td>0</td>\n",
              "      <td>0</td>\n",
              "      <td>0</td>\n",
              "      <td>0</td>\n",
              "      <td>Loja</td>\n",
              "    </tr>\n",
              "    <tr>\n",
              "      <th>7304</th>\n",
              "      <td>Rua 5 Chacará 100</td>\n",
              "      <td>15000.0</td>\n",
              "      <td>180.0</td>\n",
              "      <td>0.012000</td>\n",
              "      <td>0</td>\n",
              "      <td>0</td>\n",
              "      <td>0</td>\n",
              "      <td>SemInformacao</td>\n",
              "      <td>SemInformacao</td>\n",
              "      <td>.</td>\n",
              "      <td>...</td>\n",
              "      <td>0</td>\n",
              "      <td>0</td>\n",
              "      <td>0</td>\n",
              "      <td>0</td>\n",
              "      <td>0</td>\n",
              "      <td>0</td>\n",
              "      <td>0</td>\n",
              "      <td>0</td>\n",
              "      <td>0</td>\n",
              "      <td>Galpão</td>\n",
              "    </tr>\n",
              "    <tr>\n",
              "      <th>7305</th>\n",
              "      <td>Quadra C 7</td>\n",
              "      <td>700.0</td>\n",
              "      <td>30.0</td>\n",
              "      <td>0.042857</td>\n",
              "      <td>0</td>\n",
              "      <td>0</td>\n",
              "      <td>0</td>\n",
              "      <td>SemInformacao</td>\n",
              "      <td>SemInformacao</td>\n",
              "      <td>Ótima Sala comercial em bem localizada em Tagu...</td>\n",
              "      <td>...</td>\n",
              "      <td>0</td>\n",
              "      <td>0</td>\n",
              "      <td>0</td>\n",
              "      <td>0</td>\n",
              "      <td>0</td>\n",
              "      <td>0</td>\n",
              "      <td>0</td>\n",
              "      <td>0</td>\n",
              "      <td>0</td>\n",
              "      <td>Sala</td>\n",
              "    </tr>\n",
              "    <tr>\n",
              "      <th>7306</th>\n",
              "      <td>QE 20 Conjunto N</td>\n",
              "      <td>580.0</td>\n",
              "      <td>30.0</td>\n",
              "      <td>0.051724</td>\n",
              "      <td>1</td>\n",
              "      <td>0</td>\n",
              "      <td>0</td>\n",
              "      <td>SemInformacao</td>\n",
              "      <td>SemInformacao</td>\n",
              "      <td>.</td>\n",
              "      <td>...</td>\n",
              "      <td>0</td>\n",
              "      <td>0</td>\n",
              "      <td>0</td>\n",
              "      <td>0</td>\n",
              "      <td>0</td>\n",
              "      <td>0</td>\n",
              "      <td>0</td>\n",
              "      <td>0</td>\n",
              "      <td>0</td>\n",
              "      <td>Kitnet</td>\n",
              "    </tr>\n",
              "    <tr>\n",
              "      <th>7307</th>\n",
              "      <td>SCS Quadra 2  - Anhanguera</td>\n",
              "      <td>1500.0</td>\n",
              "      <td>36.0</td>\n",
              "      <td>0.024000</td>\n",
              "      <td>0</td>\n",
              "      <td>0</td>\n",
              "      <td>1</td>\n",
              "      <td>1000</td>\n",
              "      <td>660</td>\n",
              "      <td>SCSUL ED. ANHANGUERA 4o.ANDAR . PRÉDIO TOTALME...</td>\n",
              "      <td>...</td>\n",
              "      <td>0</td>\n",
              "      <td>0</td>\n",
              "      <td>0</td>\n",
              "      <td>0</td>\n",
              "      <td>0</td>\n",
              "      <td>0</td>\n",
              "      <td>0</td>\n",
              "      <td>0</td>\n",
              "      <td>0</td>\n",
              "      <td>Sala</td>\n",
              "    </tr>\n",
              "  </tbody>\n",
              "</table>\n",
              "<p>7308 rows × 57 columns</p>\n",
              "</div>"
            ],
            "text/plain": [
              "                                                 Título    Valor    area  \\\n",
              "0                        SCS Quadra 06 Bloco A Lote 194   7000.0   200.0   \n",
              "1                                      SQNW 310 Bloco B   4900.0    76.0   \n",
              "2                                          SHN Quadra 2  27000.0   615.0   \n",
              "3     Polo de Desenv Juscelino Kubitschek Trecho 6 C...  52000.0  2000.0   \n",
              "4                                      SEPN 516 Bloco E  13830.0   147.0   \n",
              "...                                                 ...      ...     ...   \n",
              "7303                                  QNP 32 Conjunto B   1500.0   150.0   \n",
              "7304                                  Rua 5 Chacará 100  15000.0   180.0   \n",
              "7305                                         Quadra C 7    700.0    30.0   \n",
              "7306                                   QE 20 Conjunto N    580.0    30.0   \n",
              "7307                         SCS Quadra 2  - Anhanguera   1500.0    36.0   \n",
              "\n",
              "      Valor_metro quartos suites garagem           iptu     condominio  \\\n",
              "0        0.028571       0      0       0  SemInformacao           2000   \n",
              "1        0.015510       2      1       2            409            791   \n",
              "2        0.022778       0      0       5  SemInformacao           6183   \n",
              "3        0.038462       0      0       0  SemInformacao  SemInformacao   \n",
              "4        0.010629       0      0       0            333           2389   \n",
              "...           ...     ...    ...     ...            ...            ...   \n",
              "7303     0.100000       0      0       0  SemInformacao  SemInformacao   \n",
              "7304     0.012000       0      0       0  SemInformacao  SemInformacao   \n",
              "7305     0.042857       0      0       0  SemInformacao  SemInformacao   \n",
              "7306     0.051724       1      0       0  SemInformacao  SemInformacao   \n",
              "7307     0.024000       0      0       1           1000            660   \n",
              "\n",
              "                                              descricao  ... Salão Gourmet  \\\n",
              "0     6º andar todo reformado, com 200 m², piso em p...  ...             0   \n",
              "1     Excelente apartamento no condomínio Persona Ve...  ...             0   \n",
              "2     Asa Norte, SHN Quadra 02, EXECUTIVE OFFICE, Sa...  ...             0   \n",
              "3     Excelentes galpões logísticos recém reformados...  ...             0   \n",
              "4     Clínica médica na Asa Norte com:\\rDiversos con...  ...             0   \n",
              "...                                                 ...  ...           ...   \n",
              "7303  IMOBILIÁRIA ESTRELA DESDE 1970 – ALUGA LOJA FR...  ...             0   \n",
              "7304                                                  .  ...             0   \n",
              "7305  Ótima Sala comercial em bem localizada em Tagu...  ...             0   \n",
              "7306                                                  .  ...             0   \n",
              "7307  SCSUL ED. ANHANGUERA 4o.ANDAR . PRÉDIO TOTALME...  ...             0   \n",
              "\n",
              "     Sauna SPA Área de Serviço Coberta Piso em Porcelanato  Vista Livre  \\\n",
              "0        0   0                       0                   0            0   \n",
              "1        1   0                       0                   0            0   \n",
              "2        0   0                       0                   0            0   \n",
              "3        0   0                       0                   0            0   \n",
              "4        0   0                       0                   0            0   \n",
              "...    ...  ..                     ...                 ...          ...   \n",
              "7303     0   0                       0                   0            0   \n",
              "7304     0   0                       0                   0            0   \n",
              "7305     0   0                       0                   0            0   \n",
              "7306     0   0                       0                   0            0   \n",
              "7307     0   0                       0                   0            0   \n",
              "\n",
              "      Home Theater  Aceita Pet  Academia         tipo  \n",
              "0                0           0         0       Prédio  \n",
              "1                0           0         0  Apartamento  \n",
              "2                0           0         0         Sala  \n",
              "3                0           0         0       Galpão  \n",
              "4                0           0         0         Sala  \n",
              "...            ...         ...       ...          ...  \n",
              "7303             0           0         0         Loja  \n",
              "7304             0           0         0       Galpão  \n",
              "7305             0           0         0         Sala  \n",
              "7306             0           0         0       Kitnet  \n",
              "7307             0           0         0         Sala  \n",
              "\n",
              "[7308 rows x 57 columns]"
            ]
          },
          "execution_count": 21,
          "metadata": {},
          "output_type": "execute_result"
        }
      ],
      "source": [
        "import requests\n",
        "from bs4 import BeautifulSoup\n",
        "import pandas as pd\n",
        "from tqdm import tqdm\n",
        "\n",
        "# Função para extrair as informações de um anúncio a partir de um URL\n",
        "def extrair_info_anuncio(url):\n",
        "    # Faz a requisição HTTP para o URL do anúncio\n",
        "    response = requests.get(url)\n",
        "    # Verifica se a requisição foi bem-sucedida\n",
        "    if response.status_code == 200:\n",
        "        # Parseia o conteúdo HTML\n",
        "        soup = BeautifulSoup(response.text, 'html.parser')\n",
        "        # Extrai as informações do anúncio\n",
        "        try:\n",
        "            titulo = soup.find('h1', class_='mb-0 font-weight-600 mobile-fs-1-5').text.strip()\n",
        "            preco = soup.find('h6', class_='align-text-left text-normal bb-m mr-6').text.split('\\n')[2].replace('.','')\n",
        "            area = soup.find('h6', class_='text-normal mb-0').text.split()[2].replace('.','').replace(',',\".\")\n",
        "            descricao = soup.find('p',class_='w-100 pb-3 mb-0 texto-descricao').text\n",
        "            try:\n",
        "               area = float(area)\n",
        "            except:\n",
        "               area = None\n",
        "            try:\n",
        "               preco = float(preco)\n",
        "            except:\n",
        "               preco = None\n",
        "            try:\n",
        "               preco_metro = float(area)/float(preco)\n",
        "            except:\n",
        "               preco_metro = None\n",
        "  \n",
        "            info = soup.find_all(\"h6\", class_='mb-0 text-normal')\n",
        "            imobiliaria = soup.find('h6', class_='pb-0 mb-0').text\n",
        "            creci = soup.find('div',class_='col-md-8 mt-2 ml-2').text.split('\\n')[2].split()[1]\n",
        "            tipo = soup.find('div', class_='col-lg-6').text.split()[2]\n",
        "\n",
        "            possibilidades = [\n",
        "            'Aquecimento Solar', 'Circuito de TV', 'Gerador de Energia', 'Piscina', 'Sala de Ginástica',\n",
        "            'Varanda', 'Cozinha Espaçosa', 'Ar Condicionado', 'Cobertura Coletiva', 'Guarita',\n",
        "            'PlayGround', 'Salão de Festas', 'Projeto de Iluminação', 'Pintura Nova', 'Área de Lazer',\n",
        "            'Interfone', 'Mobiliado', 'Área de Serviço', 'Brinquedoteca', 'Churrasqueira', 'Cozinha com Armários',\n",
        "            'Despensa', 'Escritório', 'Gás Canalizado', 'Jardim', 'Lavabo', 'Lazer no Pilotis', 'Poço Artesiano',\n",
        "            'Portão Eletrônico', 'Quadra Esportiva', 'Sala de Jogos', 'Salão de Jogos', 'Salão Gourmet', 'Sauna',\n",
        "            'SPA', 'Área de Serviço Coberta', 'Piso em Porcelanato', 'Vista Livre', 'Home Theater', 'Aceita Pet', 'Academia'\n",
        "            ]\n",
        "\n",
        "            resultados = {possibilidade: 0 for possibilidade in possibilidades}\n",
        "            checkbox = soup.find('ul', class_='checkboxes')\n",
        "            checkbox_text = checkbox.text.strip()\n",
        "            checkbox_list = checkbox_text.split('\\n')\n",
        "\n",
        "            for item in checkbox_list:\n",
        "              if item in resultados:\n",
        "                resultados[item] = 1\n",
        "\n",
        "            dados_dict = {}\n",
        "            for i in info:\n",
        "              item  = i.text.split()\n",
        "              chave = item[0]\n",
        "              valor = ' '.join(item[1:])\n",
        "              if chave in dados_dict:\n",
        "                dados_dict[chave].append(valor)\n",
        "              else:\n",
        "                dados_dict[chave] = [valor]\n",
        "            try:\n",
        "              quartos = dados_dict['Quartos:'][0]\n",
        "            except:\n",
        "              quartos = 0\n",
        "            try:\n",
        "              suites = dados_dict['Suítes:'][0]\n",
        "            except:\n",
        "              suites = 0\n",
        "            try:\n",
        "              garagem = dados_dict['Garagens:'][0]\n",
        "            except:\n",
        "              garagem = 0\n",
        "            try:\n",
        "              iptu = dados_dict['IPTU'][0]\n",
        "            except:\n",
        "              iptu = '0 SemInformacao'\n",
        "            try:\n",
        "              condominio = dados_dict['Condomínio'][0]\n",
        "            except:\n",
        "              condominio = '0 SemInformacao'\n",
        "            try:\n",
        "              regiao = dados_dict['Cidade:'][0]\n",
        "            except:\n",
        "              regiao = '0 SemInformacao'\n",
        "        except AttributeError as e:\n",
        "            print(e)\n",
        "            return None\n",
        "        # Retorna um dicionário com as informações do anúncio\n",
        "        return {\n",
        "            'Título': titulo,\n",
        "            \"Valor\": preco,\n",
        "            \"area\": area,\n",
        "            'Valor_metro': preco_metro,\n",
        "            'quartos': quartos,\n",
        "            'suites': suites,\n",
        "            'garagem': garagem,\n",
        "            'iptu': iptu.split()[1].replace('.',''),\n",
        "            'condominio': condominio.split()[1].replace('.',''),\n",
        "            'descricao': descricao,\n",
        "            'regiao': regiao.split('-')[1].strip(),\n",
        "            'cidade': regiao,\n",
        "            'imobiliaria': imobiliaria,\n",
        "            'creci': creci,\n",
        "            \"operacao\": 'aluguel',\n",
        "            **resultados,\n",
        "            'tipo': tipo\n",
        "        }\n",
        "    else:\n",
        "        print('Falha ao acessar o anúncio:', response.status_code)\n",
        "        return None\n",
        "\n",
        "# Lista de URLs dos anúncios\n",
        "urls_anuncios = [f\"https://www.dfimoveis.com.br/{pagina}\" for pagina in df_link_aluguel['URL'].values]\n",
        "\n",
        "# Lista para armazenar as informações dos anúncios\n",
        "info_anuncios_total = []\n",
        "\n",
        "# Extrai as informações de cada anúncio\n",
        "for url_anuncio in tqdm(urls_anuncios, desc='Extraindo informações dos anúncios'):\n",
        "    info_anuncio = extrair_info_anuncio(url_anuncio)\n",
        "    if info_anuncio:\n",
        "        info_anuncios_total.append(info_anuncio)\n",
        "\n",
        "# Se as informações foram obtidas com sucesso\n",
        "if info_anuncios_total:\n",
        "    # Cria um DataFrame com as informações dos anúncios\n",
        "    df_aluguel = pd.DataFrame(info_anuncios_total)\n",
        "\n",
        "df_aluguel"
      ]
    },
    {
      "cell_type": "markdown",
      "metadata": {
        "id": "0vm-fGbOjQW0"
      },
      "source": [
        "## Dados Aluguel"
      ]
    },
    {
      "cell_type": "code",
      "execution_count": 25,
      "metadata": {
        "id": "0Qm3Rp6Ra9-S"
      },
      "outputs": [],
      "source": [
        "df_aluguel.to_csv('aluguel.csv', index=False)"
      ]
    },
    {
      "cell_type": "markdown",
      "metadata": {
        "id": "hCM7Qdixjgaq"
      },
      "source": [
        "# Venda"
      ]
    },
    {
      "cell_type": "markdown",
      "metadata": {
        "id": "yjMQjh3MjnOV"
      },
      "source": [
        "## Pega URL"
      ]
    },
    {
      "cell_type": "code",
      "execution_count": 6,
      "metadata": {
        "colab": {
          "base_uri": "https://localhost:8080/"
        },
        "id": "odVTEKgpjqdG",
        "outputId": "1e3ced7b-f0b3-470d-d92c-e3d637fe600e"
      },
      "outputs": [
        {
          "name": "stderr",
          "output_type": "stream",
          "text": [
            "Progresso: 100%|██████████| 1414/1414 [27:25<00:00,  1.16s/it] "
          ]
        },
        {
          "name": "stdout",
          "output_type": "stream",
          "text": [
            "                                                     URL\n",
            "0      /imovel/lancamento-apartamento-aguas-claras-pe...\n",
            "1      /imovel/casa-4-quartos-venda-jardim-botanico-b...\n",
            "2      /imovel/casa-condominio-3-quartos-venda-alto-d...\n",
            "3      /imovel/casa-4-quartos-venda-asa-norte-brasili...\n",
            "4      /imovel/lancamento-2-e-3-quartos-padrao-luxo-3...\n",
            "...                                                  ...\n",
            "42500  /imovel/apartamento-2-quartos-venda-samambaia-...\n",
            "42501  /imovel/casa-2-quartos-venda-arniqueira-aguas-...\n",
            "42502  /imovel/casa-4-quartos-venda-taguatinga-norte-...\n",
            "42503  /imovel/apartamento-3-quartos-venda-sul-aguas-...\n",
            "42504  /imovel/apartamento-1-quarto-venda-norte-aguas...\n",
            "\n",
            "[42505 rows x 1 columns]\n"
          ]
        },
        {
          "name": "stderr",
          "output_type": "stream",
          "text": [
            "\n"
          ]
        }
      ],
      "source": [
        "import requests\n",
        "from bs4 import BeautifulSoup\n",
        "import pandas as pd\n",
        "from tqdm import tqdm\n",
        "import time\n",
        "\n",
        "# Função para extrair os URLs dos links <a> com a classe 'new-card'\n",
        "def extrair_urls_anuncios(soup):\n",
        "    # Encontra todos os elementos 'a' com a classe 'new-card'\n",
        "    links = soup.find_all('a', class_='new-card')\n",
        "    # Extrai os URLs dos links\n",
        "    urls = [link.get('href') for link in links]\n",
        "    return urls\n",
        "\n",
        "# Função para fazer o scraping de uma página e extrair os URLs dos links\n",
        "def fazer_scraping_pagina(url):\n",
        "    # Faz a requisição HTTP\n",
        "    response = requests.get(url)\n",
        "    # Verifica se a requisição foi bem-sucedida\n",
        "    if response.status_code == 200:\n",
        "        # Parseia o conteúdo HTML\n",
        "        soup = BeautifulSoup(response.text, 'html.parser')\n",
        "        # Extrai os URLs dos links\n",
        "        urls_anuncios_pagina = extrair_urls_anuncios(soup)\n",
        "        return urls_anuncios_pagina\n",
        "    else:\n",
        "        print('Falha ao acessar a página:', response.status_code)\n",
        "        return None\n",
        "\n",
        "# Função para fazer o scraping de várias páginas\n",
        "def fazer_scraping_varias_paginas(url_base, num_paginas):\n",
        "    lista_urls_anuncios_total = []\n",
        "    for pagina in tqdm(range(1, num_paginas + 1), desc=\"Progresso\"):\n",
        "        url_pagina = f\"{url_base}?pagina={pagina}\"\n",
        "        urls_anuncios_pagina = fazer_scraping_pagina(url_pagina)\n",
        "        if urls_anuncios_pagina:\n",
        "            lista_urls_anuncios_total.extend(urls_anuncios_pagina)\n",
        "    return lista_urls_anuncios_total\n",
        "\n",
        "# URL base do site de imóveis que você quer fazer scraping\n",
        "url_base = 'https://www.dfimoveis.com.br/venda/df/todos/imoveis'\n",
        "\n",
        "# Número total de páginas que você deseja percorrer\n",
        "num_paginas = 1414 # Ajuste conforme necessário\n",
        "\n",
        "# Faz o scraping de várias páginas\n",
        "urls_anuncios_total = fazer_scraping_varias_paginas(url_base, num_paginas)\n",
        "# Se os URLs foram obtidos com sucesso\n",
        "if urls_anuncios_total:\n",
        "    # Cria um DataFrame com os URLs dos anúncios\n",
        "    df_link = pd.DataFrame({'URL': urls_anuncios_total})\n",
        "    # Mostra o DataFrame\n",
        "    print(df_link)"
      ]
    },
    {
      "cell_type": "code",
      "execution_count": 8,
      "metadata": {
        "colab": {
          "base_uri": "https://localhost:8080/",
          "height": 263
        },
        "id": "N5d-7IMFkDSK",
        "outputId": "a5f25a83-6357-4f27-c28f-2100f9acf11d"
      },
      "outputs": [
        {
          "name": "stderr",
          "output_type": "stream",
          "text": [
            "Extraindo informações dos anúncios:   0%|          | 0/500 [00:00<?, ?it/s]"
          ]
        },
        {
          "name": "stdout",
          "output_type": "stream",
          "text": [
            "'NoneType' object has no attribute 'text'\n"
          ]
        },
        {
          "name": "stderr",
          "output_type": "stream",
          "text": [
            "Extraindo informações dos anúncios:   1%|          | 6/500 [00:01<01:46,  4.64it/s]"
          ]
        },
        {
          "name": "stdout",
          "output_type": "stream",
          "text": [
            "'NoneType' object has no attribute 'text'\n"
          ]
        },
        {
          "name": "stderr",
          "output_type": "stream",
          "text": [
            "Extraindo informações dos anúncios:   2%|▏         | 9/500 [00:01<01:47,  4.55it/s]"
          ]
        },
        {
          "name": "stdout",
          "output_type": "stream",
          "text": [
            "'NoneType' object has no attribute 'text'\n"
          ]
        },
        {
          "name": "stderr",
          "output_type": "stream",
          "text": [
            "Extraindo informações dos anúncios:   3%|▎         | 13/500 [00:02<01:43,  4.71it/s]"
          ]
        },
        {
          "name": "stdout",
          "output_type": "stream",
          "text": [
            "'NoneType' object has no attribute 'text'\n"
          ]
        },
        {
          "name": "stderr",
          "output_type": "stream",
          "text": [
            "Extraindo informações dos anúncios:   3%|▎         | 17/500 [00:03<01:41,  4.76it/s]"
          ]
        },
        {
          "name": "stdout",
          "output_type": "stream",
          "text": [
            "'NoneType' object has no attribute 'text'\n"
          ]
        },
        {
          "name": "stderr",
          "output_type": "stream",
          "text": [
            "Extraindo informações dos anúncios:   4%|▍         | 21/500 [00:05<02:55,  2.73it/s]"
          ]
        },
        {
          "name": "stdout",
          "output_type": "stream",
          "text": [
            "'NoneType' object has no attribute 'text'\n"
          ]
        },
        {
          "name": "stderr",
          "output_type": "stream",
          "text": [
            "Extraindo informações dos anúncios:   5%|▌         | 26/500 [00:06<01:58,  4.01it/s]"
          ]
        },
        {
          "name": "stdout",
          "output_type": "stream",
          "text": [
            "'NoneType' object has no attribute 'text'\n"
          ]
        },
        {
          "name": "stderr",
          "output_type": "stream",
          "text": [
            "Extraindo informações dos anúncios:   6%|▌         | 29/500 [00:07<01:55,  4.07it/s]"
          ]
        },
        {
          "name": "stdout",
          "output_type": "stream",
          "text": [
            "'NoneType' object has no attribute 'text'\n"
          ]
        },
        {
          "name": "stderr",
          "output_type": "stream",
          "text": [
            "Extraindo informações dos anúncios:   7%|▋         | 33/500 [00:08<01:38,  4.74it/s]"
          ]
        },
        {
          "name": "stdout",
          "output_type": "stream",
          "text": [
            "'NoneType' object has no attribute 'text'\n"
          ]
        },
        {
          "name": "stderr",
          "output_type": "stream",
          "text": [
            "Extraindo informações dos anúncios:   7%|▋         | 37/500 [00:09<02:06,  3.65it/s]"
          ]
        },
        {
          "name": "stdout",
          "output_type": "stream",
          "text": [
            "'NoneType' object has no attribute 'text'\n"
          ]
        },
        {
          "name": "stderr",
          "output_type": "stream",
          "text": [
            "Extraindo informações dos anúncios:   8%|▊         | 41/500 [00:10<01:42,  4.50it/s]"
          ]
        },
        {
          "name": "stdout",
          "output_type": "stream",
          "text": [
            "'NoneType' object has no attribute 'text'\n"
          ]
        },
        {
          "name": "stderr",
          "output_type": "stream",
          "text": [
            "Extraindo informações dos anúncios:   9%|▉         | 46/500 [00:11<01:34,  4.83it/s]"
          ]
        },
        {
          "name": "stdout",
          "output_type": "stream",
          "text": [
            "'NoneType' object has no attribute 'text'\n"
          ]
        },
        {
          "name": "stderr",
          "output_type": "stream",
          "text": [
            "Extraindo informações dos anúncios:  10%|▉         | 49/500 [00:11<01:30,  4.98it/s]"
          ]
        },
        {
          "name": "stdout",
          "output_type": "stream",
          "text": [
            "'NoneType' object has no attribute 'text'\n"
          ]
        },
        {
          "name": "stderr",
          "output_type": "stream",
          "text": [
            "Extraindo informações dos anúncios:  11%|█         | 54/500 [00:12<01:40,  4.42it/s]"
          ]
        },
        {
          "name": "stdout",
          "output_type": "stream",
          "text": [
            "'NoneType' object has no attribute 'text'\n"
          ]
        },
        {
          "name": "stderr",
          "output_type": "stream",
          "text": [
            "Extraindo informações dos anúncios:  11%|█▏        | 57/500 [00:13<01:33,  4.75it/s]"
          ]
        },
        {
          "name": "stdout",
          "output_type": "stream",
          "text": [
            "'NoneType' object has no attribute 'text'\n"
          ]
        },
        {
          "name": "stderr",
          "output_type": "stream",
          "text": [
            "Extraindo informações dos anúncios:  12%|█▏        | 61/500 [00:14<01:38,  4.44it/s]"
          ]
        },
        {
          "name": "stdout",
          "output_type": "stream",
          "text": [
            "'NoneType' object has no attribute 'text'\n"
          ]
        },
        {
          "name": "stderr",
          "output_type": "stream",
          "text": [
            "Extraindo informações dos anúncios:  13%|█▎        | 65/500 [00:15<01:38,  4.40it/s]"
          ]
        },
        {
          "name": "stdout",
          "output_type": "stream",
          "text": [
            "'NoneType' object has no attribute 'text'\n"
          ]
        },
        {
          "name": "stderr",
          "output_type": "stream",
          "text": [
            "Extraindo informações dos anúncios:  14%|█▍        | 70/500 [00:16<01:30,  4.77it/s]"
          ]
        },
        {
          "name": "stdout",
          "output_type": "stream",
          "text": [
            "'NoneType' object has no attribute 'text'\n"
          ]
        },
        {
          "name": "stderr",
          "output_type": "stream",
          "text": [
            "Extraindo informações dos anúncios:  15%|█▍        | 73/500 [00:17<01:25,  5.01it/s]"
          ]
        },
        {
          "name": "stdout",
          "output_type": "stream",
          "text": [
            "'NoneType' object has no attribute 'text'\n"
          ]
        },
        {
          "name": "stderr",
          "output_type": "stream",
          "text": [
            "Extraindo informações dos anúncios:  15%|█▌        | 77/500 [00:18<01:32,  4.58it/s]"
          ]
        },
        {
          "name": "stdout",
          "output_type": "stream",
          "text": [
            "'NoneType' object has no attribute 'text'\n"
          ]
        },
        {
          "name": "stderr",
          "output_type": "stream",
          "text": [
            "Extraindo informações dos anúncios:  16%|█▋        | 82/500 [00:20<02:00,  3.46it/s]"
          ]
        },
        {
          "name": "stdout",
          "output_type": "stream",
          "text": [
            "'NoneType' object has no attribute 'text'\n"
          ]
        },
        {
          "name": "stderr",
          "output_type": "stream",
          "text": [
            "Extraindo informações dos anúncios:  17%|█▋        | 85/500 [00:20<01:35,  4.35it/s]"
          ]
        },
        {
          "name": "stdout",
          "output_type": "stream",
          "text": [
            "'NoneType' object has no attribute 'text'\n"
          ]
        },
        {
          "name": "stderr",
          "output_type": "stream",
          "text": [
            "Extraindo informações dos anúncios:  18%|█▊        | 89/500 [00:21<01:37,  4.20it/s]"
          ]
        },
        {
          "name": "stdout",
          "output_type": "stream",
          "text": [
            "'NoneType' object has no attribute 'text'\n"
          ]
        },
        {
          "name": "stderr",
          "output_type": "stream",
          "text": [
            "Extraindo informações dos anúncios:  19%|█▉        | 94/500 [00:22<01:21,  4.98it/s]"
          ]
        },
        {
          "name": "stdout",
          "output_type": "stream",
          "text": [
            "'NoneType' object has no attribute 'text'\n"
          ]
        },
        {
          "name": "stderr",
          "output_type": "stream",
          "text": [
            "Extraindo informações dos anúncios:  19%|█▉        | 97/500 [00:23<01:27,  4.63it/s]"
          ]
        },
        {
          "name": "stdout",
          "output_type": "stream",
          "text": [
            "'NoneType' object has no attribute 'text'\n"
          ]
        },
        {
          "name": "stderr",
          "output_type": "stream",
          "text": [
            "Extraindo informações dos anúncios:  20%|██        | 101/500 [00:24<01:49,  3.64it/s]"
          ]
        },
        {
          "name": "stdout",
          "output_type": "stream",
          "text": [
            "'NoneType' object has no attribute 'text'\n"
          ]
        },
        {
          "name": "stderr",
          "output_type": "stream",
          "text": [
            "Extraindo informações dos anúncios:  21%|██        | 106/500 [00:25<01:28,  4.46it/s]"
          ]
        },
        {
          "name": "stdout",
          "output_type": "stream",
          "text": [
            "'NoneType' object has no attribute 'text'\n"
          ]
        },
        {
          "name": "stderr",
          "output_type": "stream",
          "text": [
            "Extraindo informações dos anúncios:  22%|██▏       | 110/500 [00:26<01:25,  4.54it/s]"
          ]
        },
        {
          "name": "stdout",
          "output_type": "stream",
          "text": [
            "'NoneType' object has no attribute 'text'\n"
          ]
        },
        {
          "name": "stderr",
          "output_type": "stream",
          "text": [
            "Extraindo informações dos anúncios:  23%|██▎       | 113/500 [00:27<01:54,  3.38it/s]"
          ]
        },
        {
          "name": "stdout",
          "output_type": "stream",
          "text": [
            "'NoneType' object has no attribute 'text'\n"
          ]
        },
        {
          "name": "stderr",
          "output_type": "stream",
          "text": [
            "Extraindo informações dos anúncios:  23%|██▎       | 117/500 [00:28<01:27,  4.40it/s]"
          ]
        },
        {
          "name": "stdout",
          "output_type": "stream",
          "text": [
            "'NoneType' object has no attribute 'text'\n"
          ]
        },
        {
          "name": "stderr",
          "output_type": "stream",
          "text": [
            "Extraindo informações dos anúncios:  24%|██▍       | 122/500 [00:29<01:22,  4.59it/s]"
          ]
        },
        {
          "name": "stdout",
          "output_type": "stream",
          "text": [
            "'NoneType' object has no attribute 'text'\n"
          ]
        },
        {
          "name": "stderr",
          "output_type": "stream",
          "text": [
            "Extraindo informações dos anúncios:  25%|██▌       | 125/500 [00:30<01:17,  4.87it/s]"
          ]
        },
        {
          "name": "stdout",
          "output_type": "stream",
          "text": [
            "'NoneType' object has no attribute 'text'\n"
          ]
        },
        {
          "name": "stderr",
          "output_type": "stream",
          "text": [
            "Extraindo informações dos anúncios:  26%|██▌       | 130/500 [00:31<01:21,  4.56it/s]"
          ]
        },
        {
          "name": "stdout",
          "output_type": "stream",
          "text": [
            "'NoneType' object has no attribute 'text'\n"
          ]
        },
        {
          "name": "stderr",
          "output_type": "stream",
          "text": [
            "Extraindo informações dos anúncios:  27%|██▋       | 134/500 [00:32<01:47,  3.42it/s]"
          ]
        },
        {
          "name": "stdout",
          "output_type": "stream",
          "text": [
            "'NoneType' object has no attribute 'text'\n"
          ]
        },
        {
          "name": "stderr",
          "output_type": "stream",
          "text": [
            "Extraindo informações dos anúncios:  27%|██▋       | 137/500 [00:33<01:31,  3.99it/s]"
          ]
        },
        {
          "name": "stdout",
          "output_type": "stream",
          "text": [
            "'NoneType' object has no attribute 'text'\n"
          ]
        },
        {
          "name": "stderr",
          "output_type": "stream",
          "text": [
            "Extraindo informações dos anúncios:  28%|██▊       | 141/500 [00:34<01:26,  4.13it/s]"
          ]
        },
        {
          "name": "stdout",
          "output_type": "stream",
          "text": [
            "'NoneType' object has no attribute 'text'\n"
          ]
        },
        {
          "name": "stderr",
          "output_type": "stream",
          "text": [
            "Extraindo informações dos anúncios:  29%|██▉       | 146/500 [00:35<01:16,  4.63it/s]"
          ]
        },
        {
          "name": "stdout",
          "output_type": "stream",
          "text": [
            "'NoneType' object has no attribute 'text'\n"
          ]
        },
        {
          "name": "stderr",
          "output_type": "stream",
          "text": [
            "Extraindo informações dos anúncios:  30%|███       | 150/500 [00:36<01:14,  4.73it/s]"
          ]
        },
        {
          "name": "stdout",
          "output_type": "stream",
          "text": [
            "'NoneType' object has no attribute 'text'\n"
          ]
        },
        {
          "name": "stderr",
          "output_type": "stream",
          "text": [
            "Extraindo informações dos anúncios:  31%|███       | 154/500 [00:37<01:14,  4.65it/s]"
          ]
        },
        {
          "name": "stdout",
          "output_type": "stream",
          "text": [
            "'NoneType' object has no attribute 'text'\n"
          ]
        },
        {
          "name": "stderr",
          "output_type": "stream",
          "text": [
            "Extraindo informações dos anúncios:  32%|███▏      | 158/500 [00:38<01:14,  4.61it/s]"
          ]
        },
        {
          "name": "stdout",
          "output_type": "stream",
          "text": [
            "'NoneType' object has no attribute 'text'\n"
          ]
        },
        {
          "name": "stderr",
          "output_type": "stream",
          "text": [
            "Extraindo informações dos anúncios:  32%|███▏      | 161/500 [00:38<01:15,  4.48it/s]"
          ]
        },
        {
          "name": "stdout",
          "output_type": "stream",
          "text": [
            "'NoneType' object has no attribute 'text'\n"
          ]
        },
        {
          "name": "stderr",
          "output_type": "stream",
          "text": [
            "Extraindo informações dos anúncios:  33%|███▎      | 165/500 [00:39<01:17,  4.32it/s]"
          ]
        },
        {
          "name": "stdout",
          "output_type": "stream",
          "text": [
            "'NoneType' object has no attribute 'text'\n"
          ]
        },
        {
          "name": "stderr",
          "output_type": "stream",
          "text": [
            "Extraindo informações dos anúncios:  34%|███▍      | 169/500 [00:40<01:10,  4.71it/s]"
          ]
        },
        {
          "name": "stdout",
          "output_type": "stream",
          "text": [
            "'NoneType' object has no attribute 'text'\n"
          ]
        },
        {
          "name": "stderr",
          "output_type": "stream",
          "text": [
            "Extraindo informações dos anúncios:  35%|███▍      | 173/500 [00:41<01:12,  4.52it/s]"
          ]
        },
        {
          "name": "stdout",
          "output_type": "stream",
          "text": [
            "'NoneType' object has no attribute 'text'\n"
          ]
        },
        {
          "name": "stderr",
          "output_type": "stream",
          "text": [
            "Extraindo informações dos anúncios:  35%|███▌      | 177/500 [00:42<01:07,  4.81it/s]"
          ]
        },
        {
          "name": "stdout",
          "output_type": "stream",
          "text": [
            "'NoneType' object has no attribute 'text'\n"
          ]
        },
        {
          "name": "stderr",
          "output_type": "stream",
          "text": [
            "Extraindo informações dos anúncios:  36%|███▋      | 182/500 [00:43<01:09,  4.59it/s]"
          ]
        },
        {
          "name": "stdout",
          "output_type": "stream",
          "text": [
            "'NoneType' object has no attribute 'text'\n"
          ]
        },
        {
          "name": "stderr",
          "output_type": "stream",
          "text": [
            "Extraindo informações dos anúncios:  37%|███▋      | 185/500 [00:44<01:17,  4.09it/s]"
          ]
        },
        {
          "name": "stdout",
          "output_type": "stream",
          "text": [
            "'NoneType' object has no attribute 'text'\n"
          ]
        },
        {
          "name": "stderr",
          "output_type": "stream",
          "text": [
            "Extraindo informações dos anúncios:  38%|███▊      | 189/500 [00:45<01:10,  4.41it/s]"
          ]
        },
        {
          "name": "stdout",
          "output_type": "stream",
          "text": [
            "'NoneType' object has no attribute 'text'\n"
          ]
        },
        {
          "name": "stderr",
          "output_type": "stream",
          "text": [
            "Extraindo informações dos anúncios:  39%|███▊      | 193/500 [00:46<01:33,  3.27it/s]"
          ]
        },
        {
          "name": "stdout",
          "output_type": "stream",
          "text": [
            "'NoneType' object has no attribute 'text'\n"
          ]
        },
        {
          "name": "stderr",
          "output_type": "stream",
          "text": [
            "Extraindo informações dos anúncios:  39%|███▉      | 197/500 [00:47<01:25,  3.53it/s]"
          ]
        },
        {
          "name": "stdout",
          "output_type": "stream",
          "text": [
            "'NoneType' object has no attribute 'text'\n"
          ]
        },
        {
          "name": "stderr",
          "output_type": "stream",
          "text": [
            "Extraindo informações dos anúncios:  40%|████      | 202/500 [00:49<01:14,  4.02it/s]"
          ]
        },
        {
          "name": "stdout",
          "output_type": "stream",
          "text": [
            "'NoneType' object has no attribute 'text'\n"
          ]
        },
        {
          "name": "stderr",
          "output_type": "stream",
          "text": [
            "Extraindo informações dos anúncios:  41%|████      | 205/500 [00:49<01:03,  4.64it/s]"
          ]
        },
        {
          "name": "stdout",
          "output_type": "stream",
          "text": [
            "'NoneType' object has no attribute 'text'\n"
          ]
        },
        {
          "name": "stderr",
          "output_type": "stream",
          "text": [
            "Extraindo informações dos anúncios:  42%|████▏     | 209/500 [00:50<01:01,  4.72it/s]"
          ]
        },
        {
          "name": "stdout",
          "output_type": "stream",
          "text": [
            "'NoneType' object has no attribute 'text'\n"
          ]
        },
        {
          "name": "stderr",
          "output_type": "stream",
          "text": [
            "Extraindo informações dos anúncios:  43%|████▎     | 213/500 [00:51<01:02,  4.57it/s]"
          ]
        },
        {
          "name": "stdout",
          "output_type": "stream",
          "text": [
            "'NoneType' object has no attribute 'text'\n"
          ]
        },
        {
          "name": "stderr",
          "output_type": "stream",
          "text": [
            "Extraindo informações dos anúncios:  44%|████▎     | 218/500 [00:52<01:01,  4.62it/s]"
          ]
        },
        {
          "name": "stdout",
          "output_type": "stream",
          "text": [
            "'NoneType' object has no attribute 'text'\n"
          ]
        },
        {
          "name": "stderr",
          "output_type": "stream",
          "text": [
            "Extraindo informações dos anúncios:  44%|████▍     | 221/500 [00:53<01:14,  3.75it/s]"
          ]
        },
        {
          "name": "stdout",
          "output_type": "stream",
          "text": [
            "'NoneType' object has no attribute 'text'\n"
          ]
        },
        {
          "name": "stderr",
          "output_type": "stream",
          "text": [
            "Extraindo informações dos anúncios:  45%|████▌     | 226/500 [00:55<01:16,  3.58it/s]"
          ]
        },
        {
          "name": "stdout",
          "output_type": "stream",
          "text": [
            "'NoneType' object has no attribute 'text'\n"
          ]
        },
        {
          "name": "stderr",
          "output_type": "stream",
          "text": [
            "Extraindo informações dos anúncios:  46%|████▌     | 230/500 [00:56<00:59,  4.57it/s]"
          ]
        },
        {
          "name": "stdout",
          "output_type": "stream",
          "text": [
            "'NoneType' object has no attribute 'text'\n"
          ]
        },
        {
          "name": "stderr",
          "output_type": "stream",
          "text": [
            "Extraindo informações dos anúncios:  47%|████▋     | 233/500 [00:56<01:00,  4.44it/s]"
          ]
        },
        {
          "name": "stdout",
          "output_type": "stream",
          "text": [
            "'NoneType' object has no attribute 'text'\n"
          ]
        },
        {
          "name": "stderr",
          "output_type": "stream",
          "text": [
            "Extraindo informações dos anúncios:  47%|████▋     | 237/500 [00:57<00:55,  4.74it/s]"
          ]
        },
        {
          "name": "stdout",
          "output_type": "stream",
          "text": [
            "'NoneType' object has no attribute 'text'\n"
          ]
        },
        {
          "name": "stderr",
          "output_type": "stream",
          "text": [
            "Extraindo informações dos anúncios:  48%|████▊     | 242/500 [00:58<00:53,  4.80it/s]"
          ]
        },
        {
          "name": "stdout",
          "output_type": "stream",
          "text": [
            "'NoneType' object has no attribute 'text'\n"
          ]
        },
        {
          "name": "stderr",
          "output_type": "stream",
          "text": [
            "Extraindo informações dos anúncios:  49%|████▉     | 245/500 [00:59<01:05,  3.91it/s]"
          ]
        },
        {
          "name": "stdout",
          "output_type": "stream",
          "text": [
            "'NoneType' object has no attribute 'text'\n"
          ]
        },
        {
          "name": "stderr",
          "output_type": "stream",
          "text": [
            "Extraindo informações dos anúncios:  50%|████▉     | 249/500 [01:00<00:55,  4.51it/s]"
          ]
        },
        {
          "name": "stdout",
          "output_type": "stream",
          "text": [
            "'NoneType' object has no attribute 'text'\n"
          ]
        },
        {
          "name": "stderr",
          "output_type": "stream",
          "text": [
            "Extraindo informações dos anúncios:  51%|█████     | 253/500 [01:01<00:51,  4.75it/s]"
          ]
        },
        {
          "name": "stdout",
          "output_type": "stream",
          "text": [
            "'NoneType' object has no attribute 'text'\n"
          ]
        },
        {
          "name": "stderr",
          "output_type": "stream",
          "text": [
            "Extraindo informações dos anúncios:  51%|█████▏    | 257/500 [01:02<00:52,  4.66it/s]"
          ]
        },
        {
          "name": "stdout",
          "output_type": "stream",
          "text": [
            "'NoneType' object has no attribute 'text'\n"
          ]
        },
        {
          "name": "stderr",
          "output_type": "stream",
          "text": [
            "Extraindo informações dos anúncios:  52%|█████▏    | 262/500 [01:03<00:51,  4.61it/s]"
          ]
        },
        {
          "name": "stdout",
          "output_type": "stream",
          "text": [
            "'NoneType' object has no attribute 'text'\n"
          ]
        },
        {
          "name": "stderr",
          "output_type": "stream",
          "text": [
            "Extraindo informações dos anúncios:  53%|█████▎    | 266/500 [01:04<00:48,  4.80it/s]"
          ]
        },
        {
          "name": "stdout",
          "output_type": "stream",
          "text": [
            "'NoneType' object has no attribute 'text'\n"
          ]
        },
        {
          "name": "stderr",
          "output_type": "stream",
          "text": [
            "Extraindo informações dos anúncios:  54%|█████▍    | 269/500 [01:05<01:37,  2.37it/s]"
          ]
        },
        {
          "name": "stdout",
          "output_type": "stream",
          "text": [
            "'NoneType' object has no attribute 'text'\n"
          ]
        },
        {
          "name": "stderr",
          "output_type": "stream",
          "text": [
            "Extraindo informações dos anúncios:  55%|█████▍    | 274/500 [01:06<00:57,  3.92it/s]"
          ]
        },
        {
          "name": "stdout",
          "output_type": "stream",
          "text": [
            "'NoneType' object has no attribute 'text'\n"
          ]
        },
        {
          "name": "stderr",
          "output_type": "stream",
          "text": [
            "Extraindo informações dos anúncios:  56%|█████▌    | 278/500 [01:07<00:53,  4.14it/s]"
          ]
        },
        {
          "name": "stdout",
          "output_type": "stream",
          "text": [
            "'NoneType' object has no attribute 'text'\n"
          ]
        },
        {
          "name": "stderr",
          "output_type": "stream",
          "text": [
            "Extraindo informações dos anúncios:  56%|█████▌    | 281/500 [01:08<00:51,  4.23it/s]"
          ]
        },
        {
          "name": "stdout",
          "output_type": "stream",
          "text": [
            "'NoneType' object has no attribute 'text'\n"
          ]
        },
        {
          "name": "stderr",
          "output_type": "stream",
          "text": [
            "Extraindo informações dos anúncios:  57%|█████▋    | 286/500 [01:09<00:48,  4.45it/s]"
          ]
        },
        {
          "name": "stdout",
          "output_type": "stream",
          "text": [
            "'NoneType' object has no attribute 'text'\n"
          ]
        },
        {
          "name": "stderr",
          "output_type": "stream",
          "text": [
            "Extraindo informações dos anúncios:  58%|█████▊    | 290/500 [01:10<00:45,  4.63it/s]"
          ]
        },
        {
          "name": "stdout",
          "output_type": "stream",
          "text": [
            "'NoneType' object has no attribute 'text'\n"
          ]
        },
        {
          "name": "stderr",
          "output_type": "stream",
          "text": [
            "Extraindo informações dos anúncios:  59%|█████▉    | 294/500 [01:11<00:47,  4.33it/s]"
          ]
        },
        {
          "name": "stdout",
          "output_type": "stream",
          "text": [
            "'NoneType' object has no attribute 'text'\n"
          ]
        },
        {
          "name": "stderr",
          "output_type": "stream",
          "text": [
            "Extraindo informações dos anúncios:  59%|█████▉    | 297/500 [01:12<00:42,  4.75it/s]"
          ]
        },
        {
          "name": "stdout",
          "output_type": "stream",
          "text": [
            "'NoneType' object has no attribute 'text'\n"
          ]
        },
        {
          "name": "stderr",
          "output_type": "stream",
          "text": [
            "Extraindo informações dos anúncios:  60%|██████    | 302/500 [01:13<00:42,  4.63it/s]"
          ]
        },
        {
          "name": "stdout",
          "output_type": "stream",
          "text": [
            "'NoneType' object has no attribute 'text'\n"
          ]
        },
        {
          "name": "stderr",
          "output_type": "stream",
          "text": [
            "Extraindo informações dos anúncios:  61%|██████    | 305/500 [01:13<00:41,  4.69it/s]"
          ]
        },
        {
          "name": "stdout",
          "output_type": "stream",
          "text": [
            "'NoneType' object has no attribute 'text'\n"
          ]
        },
        {
          "name": "stderr",
          "output_type": "stream",
          "text": [
            "Extraindo informações dos anúncios:  62%|██████▏   | 309/500 [01:14<00:46,  4.13it/s]"
          ]
        },
        {
          "name": "stdout",
          "output_type": "stream",
          "text": [
            "'NoneType' object has no attribute 'text'\n"
          ]
        },
        {
          "name": "stderr",
          "output_type": "stream",
          "text": [
            "Extraindo informações dos anúncios:  63%|██████▎   | 313/500 [01:15<00:39,  4.74it/s]"
          ]
        },
        {
          "name": "stdout",
          "output_type": "stream",
          "text": [
            "'NoneType' object has no attribute 'text'\n"
          ]
        },
        {
          "name": "stderr",
          "output_type": "stream",
          "text": [
            "Extraindo informações dos anúncios:  63%|██████▎   | 317/500 [01:16<00:41,  4.46it/s]"
          ]
        },
        {
          "name": "stdout",
          "output_type": "stream",
          "text": [
            "'NoneType' object has no attribute 'text'\n"
          ]
        },
        {
          "name": "stderr",
          "output_type": "stream",
          "text": [
            "Extraindo informações dos anúncios:  64%|██████▍   | 322/500 [01:18<00:54,  3.24it/s]"
          ]
        },
        {
          "name": "stdout",
          "output_type": "stream",
          "text": [
            "'NoneType' object has no attribute 'text'\n"
          ]
        },
        {
          "name": "stderr",
          "output_type": "stream",
          "text": [
            "Extraindo informações dos anúncios:  65%|██████▌   | 325/500 [01:20<01:32,  1.89it/s]"
          ]
        },
        {
          "name": "stdout",
          "output_type": "stream",
          "text": [
            "'NoneType' object has no attribute 'text'\n"
          ]
        },
        {
          "name": "stderr",
          "output_type": "stream",
          "text": [
            "Extraindo informações dos anúncios:  66%|██████▌   | 330/500 [01:21<00:46,  3.67it/s]"
          ]
        },
        {
          "name": "stdout",
          "output_type": "stream",
          "text": [
            "'NoneType' object has no attribute 'text'\n"
          ]
        },
        {
          "name": "stderr",
          "output_type": "stream",
          "text": [
            "Extraindo informações dos anúncios:  67%|██████▋   | 333/500 [01:22<00:41,  4.04it/s]"
          ]
        },
        {
          "name": "stdout",
          "output_type": "stream",
          "text": [
            "'NoneType' object has no attribute 'text'\n"
          ]
        },
        {
          "name": "stderr",
          "output_type": "stream",
          "text": [
            "Extraindo informações dos anúncios:  67%|██████▋   | 337/500 [01:23<01:00,  2.70it/s]"
          ]
        },
        {
          "name": "stdout",
          "output_type": "stream",
          "text": [
            "'NoneType' object has no attribute 'text'\n"
          ]
        },
        {
          "name": "stderr",
          "output_type": "stream",
          "text": [
            "Extraindo informações dos anúncios: 100%|██████████| 500/500 [02:11<00:00,  3.79it/s]\n"
          ]
        },
        {
          "data": {
            "text/html": [
              "<div>\n",
              "<style scoped>\n",
              "    .dataframe tbody tr th:only-of-type {\n",
              "        vertical-align: middle;\n",
              "    }\n",
              "\n",
              "    .dataframe tbody tr th {\n",
              "        vertical-align: top;\n",
              "    }\n",
              "\n",
              "    .dataframe thead th {\n",
              "        text-align: right;\n",
              "    }\n",
              "</style>\n",
              "<table border=\"1\" class=\"dataframe\">\n",
              "  <thead>\n",
              "    <tr style=\"text-align: right;\">\n",
              "      <th></th>\n",
              "      <th>Título</th>\n",
              "      <th>Valor</th>\n",
              "      <th>area</th>\n",
              "      <th>Valor_metro</th>\n",
              "      <th>quartos</th>\n",
              "      <th>suites</th>\n",
              "      <th>garagem</th>\n",
              "      <th>iptu</th>\n",
              "      <th>condominio</th>\n",
              "      <th>descricao</th>\n",
              "      <th>...</th>\n",
              "      <th>Salão Gourmet</th>\n",
              "      <th>Sauna</th>\n",
              "      <th>SPA</th>\n",
              "      <th>Área de Serviço Coberta</th>\n",
              "      <th>Piso em Porcelanato</th>\n",
              "      <th>Vista Livre</th>\n",
              "      <th>Home Theater</th>\n",
              "      <th>Aceita Pet</th>\n",
              "      <th>Academia</th>\n",
              "      <th>tipo</th>\n",
              "    </tr>\n",
              "  </thead>\n",
              "  <tbody>\n",
              "    <tr>\n",
              "      <th>0</th>\n",
              "      <td>Alameda Beija flores</td>\n",
              "      <td>1650000</td>\n",
              "      <td>370.00</td>\n",
              "      <td>0.000224</td>\n",
              "      <td>4</td>\n",
              "      <td>4</td>\n",
              "      <td>2</td>\n",
              "      <td>SemInformacao</td>\n",
              "      <td>777</td>\n",
              "      <td>Mikonos House – No Residencial Santa Mônica - ...</td>\n",
              "      <td>...</td>\n",
              "      <td>0</td>\n",
              "      <td>1</td>\n",
              "      <td>1</td>\n",
              "      <td>0</td>\n",
              "      <td>0</td>\n",
              "      <td>1</td>\n",
              "      <td>0</td>\n",
              "      <td>0</td>\n",
              "      <td>0</td>\n",
              "      <td>Casa</td>\n",
              "    </tr>\n",
              "    <tr>\n",
              "      <th>1</th>\n",
              "      <td>RODOVIA BR 0020 KM 12,5</td>\n",
              "      <td>1240000</td>\n",
              "      <td>200.00</td>\n",
              "      <td>0.000161</td>\n",
              "      <td>3</td>\n",
              "      <td>3</td>\n",
              "      <td>2</td>\n",
              "      <td>SemInformacao</td>\n",
              "      <td>SemInformacao</td>\n",
              "      <td>Imobiliária Margarete Corrêa vende Excelente C...</td>\n",
              "      <td>...</td>\n",
              "      <td>0</td>\n",
              "      <td>0</td>\n",
              "      <td>0</td>\n",
              "      <td>0</td>\n",
              "      <td>0</td>\n",
              "      <td>0</td>\n",
              "      <td>0</td>\n",
              "      <td>0</td>\n",
              "      <td>0</td>\n",
              "      <td>Casa</td>\n",
              "    </tr>\n",
              "    <tr>\n",
              "      <th>2</th>\n",
              "      <td>SHCGN 713 Bloco Q</td>\n",
              "      <td>2490000</td>\n",
              "      <td>257.00</td>\n",
              "      <td>0.000103</td>\n",
              "      <td>4</td>\n",
              "      <td>3</td>\n",
              "      <td>2</td>\n",
              "      <td>2608</td>\n",
              "      <td>SemInformacao</td>\n",
              "      <td>Kontá Imóveis: Perto de você!\\r\\rCasa construí...</td>\n",
              "      <td>...</td>\n",
              "      <td>0</td>\n",
              "      <td>0</td>\n",
              "      <td>0</td>\n",
              "      <td>0</td>\n",
              "      <td>0</td>\n",
              "      <td>0</td>\n",
              "      <td>0</td>\n",
              "      <td>0</td>\n",
              "      <td>0</td>\n",
              "      <td>Casa</td>\n",
              "    </tr>\n",
              "    <tr>\n",
              "      <th>3</th>\n",
              "      <td>SQSW 100 Bloco B</td>\n",
              "      <td>1390000</td>\n",
              "      <td>97.22</td>\n",
              "      <td>0.000070</td>\n",
              "      <td>3</td>\n",
              "      <td>1</td>\n",
              "      <td>1</td>\n",
              "      <td>2564</td>\n",
              "      <td>1061</td>\n",
              "      <td>Kontá Imóveis: Perto de você!\\r\\rEXCLUSIVIDADE...</td>\n",
              "      <td>...</td>\n",
              "      <td>0</td>\n",
              "      <td>0</td>\n",
              "      <td>0</td>\n",
              "      <td>0</td>\n",
              "      <td>0</td>\n",
              "      <td>1</td>\n",
              "      <td>0</td>\n",
              "      <td>0</td>\n",
              "      <td>0</td>\n",
              "      <td>Apartamento</td>\n",
              "    </tr>\n",
              "    <tr>\n",
              "      <th>4</th>\n",
              "      <td>SHIS QL 8</td>\n",
              "      <td>6900000</td>\n",
              "      <td>750.00</td>\n",
              "      <td>0.000109</td>\n",
              "      <td>5</td>\n",
              "      <td>5</td>\n",
              "      <td>4</td>\n",
              "      <td>SemInformacao</td>\n",
              "      <td>SemInformacao</td>\n",
              "      <td>Piso inferior:  Quatro espaçosas salas aguarda...</td>\n",
              "      <td>...</td>\n",
              "      <td>0</td>\n",
              "      <td>1</td>\n",
              "      <td>0</td>\n",
              "      <td>0</td>\n",
              "      <td>0</td>\n",
              "      <td>0</td>\n",
              "      <td>0</td>\n",
              "      <td>0</td>\n",
              "      <td>0</td>\n",
              "      <td>Casa</td>\n",
              "    </tr>\n",
              "    <tr>\n",
              "      <th>...</th>\n",
              "      <td>...</td>\n",
              "      <td>...</td>\n",
              "      <td>...</td>\n",
              "      <td>...</td>\n",
              "      <td>...</td>\n",
              "      <td>...</td>\n",
              "      <td>...</td>\n",
              "      <td>...</td>\n",
              "      <td>...</td>\n",
              "      <td>...</td>\n",
              "      <td>...</td>\n",
              "      <td>...</td>\n",
              "      <td>...</td>\n",
              "      <td>...</td>\n",
              "      <td>...</td>\n",
              "      <td>...</td>\n",
              "      <td>...</td>\n",
              "      <td>...</td>\n",
              "      <td>...</td>\n",
              "      <td>...</td>\n",
              "      <td>...</td>\n",
              "    </tr>\n",
              "    <tr>\n",
              "      <th>410</th>\n",
              "      <td>Rua 36  - Top Life Club Residence</td>\n",
              "      <td>628000</td>\n",
              "      <td>86.47</td>\n",
              "      <td>0.000138</td>\n",
              "      <td>3</td>\n",
              "      <td>1</td>\n",
              "      <td>2</td>\n",
              "      <td>1023</td>\n",
              "      <td>686</td>\n",
              "      <td>Exclusividade - Bem-vindo ao seu novo lar no c...</td>\n",
              "      <td>...</td>\n",
              "      <td>0</td>\n",
              "      <td>0</td>\n",
              "      <td>0</td>\n",
              "      <td>0</td>\n",
              "      <td>0</td>\n",
              "      <td>0</td>\n",
              "      <td>0</td>\n",
              "      <td>0</td>\n",
              "      <td>0</td>\n",
              "      <td>Apartamento</td>\n",
              "    </tr>\n",
              "    <tr>\n",
              "      <th>411</th>\n",
              "      <td>SQN 112 Bloco I</td>\n",
              "      <td>1369000</td>\n",
              "      <td>131.00</td>\n",
              "      <td>0.000096</td>\n",
              "      <td>2</td>\n",
              "      <td>0</td>\n",
              "      <td>1</td>\n",
              "      <td>183</td>\n",
              "      <td>1097</td>\n",
              "      <td>Apartamento de 02 quartos - SQN 112 Bloco I \\n...</td>\n",
              "      <td>...</td>\n",
              "      <td>0</td>\n",
              "      <td>0</td>\n",
              "      <td>0</td>\n",
              "      <td>0</td>\n",
              "      <td>0</td>\n",
              "      <td>0</td>\n",
              "      <td>0</td>\n",
              "      <td>0</td>\n",
              "      <td>0</td>\n",
              "      <td>Apartamento</td>\n",
              "    </tr>\n",
              "    <tr>\n",
              "      <th>412</th>\n",
              "      <td>Rua 28</td>\n",
              "      <td>1590000</td>\n",
              "      <td>169.00</td>\n",
              "      <td>0.000106</td>\n",
              "      <td>4</td>\n",
              "      <td>3</td>\n",
              "      <td>3</td>\n",
              "      <td>169</td>\n",
              "      <td>1451</td>\n",
              "      <td>Apartamento de alto padrão, vazado, vista livr...</td>\n",
              "      <td>...</td>\n",
              "      <td>0</td>\n",
              "      <td>0</td>\n",
              "      <td>0</td>\n",
              "      <td>0</td>\n",
              "      <td>0</td>\n",
              "      <td>0</td>\n",
              "      <td>0</td>\n",
              "      <td>0</td>\n",
              "      <td>0</td>\n",
              "      <td>Apartamento</td>\n",
              "    </tr>\n",
              "    <tr>\n",
              "      <th>413</th>\n",
              "      <td>QRSW 8 Bloco A 7</td>\n",
              "      <td>675000</td>\n",
              "      <td>61.00</td>\n",
              "      <td>0.000090</td>\n",
              "      <td>2</td>\n",
              "      <td>0</td>\n",
              "      <td>0</td>\n",
              "      <td>99</td>\n",
              "      <td>550</td>\n",
              "      <td>Praia dos Ingleses - Apartamento vazado, vista...</td>\n",
              "      <td>...</td>\n",
              "      <td>0</td>\n",
              "      <td>0</td>\n",
              "      <td>0</td>\n",
              "      <td>0</td>\n",
              "      <td>0</td>\n",
              "      <td>0</td>\n",
              "      <td>0</td>\n",
              "      <td>0</td>\n",
              "      <td>0</td>\n",
              "      <td>Apartamento</td>\n",
              "    </tr>\n",
              "    <tr>\n",
              "      <th>414</th>\n",
              "      <td>Rua 9</td>\n",
              "      <td>630000</td>\n",
              "      <td>105.00</td>\n",
              "      <td>0.000167</td>\n",
              "      <td>4</td>\n",
              "      <td>2</td>\n",
              "      <td>1</td>\n",
              "      <td>106</td>\n",
              "      <td>826</td>\n",
              "      <td>Apartamento nascente, com área de lazer - Dirc...</td>\n",
              "      <td>...</td>\n",
              "      <td>0</td>\n",
              "      <td>0</td>\n",
              "      <td>0</td>\n",
              "      <td>0</td>\n",
              "      <td>0</td>\n",
              "      <td>0</td>\n",
              "      <td>0</td>\n",
              "      <td>0</td>\n",
              "      <td>0</td>\n",
              "      <td>Apartamento</td>\n",
              "    </tr>\n",
              "  </tbody>\n",
              "</table>\n",
              "<p>415 rows × 57 columns</p>\n",
              "</div>"
            ],
            "text/plain": [
              "                                Título     Valor    area  Valor_metro quartos  \\\n",
              "0                 Alameda Beija flores   1650000  370.00     0.000224       4   \n",
              "1              RODOVIA BR 0020 KM 12,5   1240000  200.00     0.000161       3   \n",
              "2                    SHCGN 713 Bloco Q   2490000  257.00     0.000103       4   \n",
              "3                     SQSW 100 Bloco B   1390000   97.22     0.000070       3   \n",
              "4                            SHIS QL 8   6900000  750.00     0.000109       5   \n",
              "..                                 ...       ...     ...          ...     ...   \n",
              "410  Rua 36  - Top Life Club Residence    628000   86.47     0.000138       3   \n",
              "411                    SQN 112 Bloco I   1369000  131.00     0.000096       2   \n",
              "412                             Rua 28   1590000  169.00     0.000106       4   \n",
              "413                   QRSW 8 Bloco A 7    675000   61.00     0.000090       2   \n",
              "414                              Rua 9    630000  105.00     0.000167       4   \n",
              "\n",
              "    suites garagem           iptu     condominio  \\\n",
              "0        4       2  SemInformacao            777   \n",
              "1        3       2  SemInformacao  SemInformacao   \n",
              "2        3       2           2608  SemInformacao   \n",
              "3        1       1           2564           1061   \n",
              "4        5       4  SemInformacao  SemInformacao   \n",
              "..     ...     ...            ...            ...   \n",
              "410      1       2           1023            686   \n",
              "411      0       1            183           1097   \n",
              "412      3       3            169           1451   \n",
              "413      0       0             99            550   \n",
              "414      2       1            106            826   \n",
              "\n",
              "                                             descricao  ... Salão Gourmet  \\\n",
              "0    Mikonos House – No Residencial Santa Mônica - ...  ...             0   \n",
              "1    Imobiliária Margarete Corrêa vende Excelente C...  ...             0   \n",
              "2    Kontá Imóveis: Perto de você!\\r\\rCasa construí...  ...             0   \n",
              "3    Kontá Imóveis: Perto de você!\\r\\rEXCLUSIVIDADE...  ...             0   \n",
              "4    Piso inferior:  Quatro espaçosas salas aguarda...  ...             0   \n",
              "..                                                 ...  ...           ...   \n",
              "410  Exclusividade - Bem-vindo ao seu novo lar no c...  ...             0   \n",
              "411  Apartamento de 02 quartos - SQN 112 Bloco I \\n...  ...             0   \n",
              "412  Apartamento de alto padrão, vazado, vista livr...  ...             0   \n",
              "413  Praia dos Ingleses - Apartamento vazado, vista...  ...             0   \n",
              "414  Apartamento nascente, com área de lazer - Dirc...  ...             0   \n",
              "\n",
              "    Sauna SPA Área de Serviço Coberta Piso em Porcelanato  Vista Livre  \\\n",
              "0       1   1                       0                   0            1   \n",
              "1       0   0                       0                   0            0   \n",
              "2       0   0                       0                   0            0   \n",
              "3       0   0                       0                   0            1   \n",
              "4       1   0                       0                   0            0   \n",
              "..    ...  ..                     ...                 ...          ...   \n",
              "410     0   0                       0                   0            0   \n",
              "411     0   0                       0                   0            0   \n",
              "412     0   0                       0                   0            0   \n",
              "413     0   0                       0                   0            0   \n",
              "414     0   0                       0                   0            0   \n",
              "\n",
              "     Home Theater  Aceita Pet  Academia         tipo  \n",
              "0               0           0         0         Casa  \n",
              "1               0           0         0         Casa  \n",
              "2               0           0         0         Casa  \n",
              "3               0           0         0  Apartamento  \n",
              "4               0           0         0         Casa  \n",
              "..            ...         ...       ...          ...  \n",
              "410             0           0         0  Apartamento  \n",
              "411             0           0         0  Apartamento  \n",
              "412             0           0         0  Apartamento  \n",
              "413             0           0         0  Apartamento  \n",
              "414             0           0         0  Apartamento  \n",
              "\n",
              "[415 rows x 57 columns]"
            ]
          },
          "execution_count": 8,
          "metadata": {},
          "output_type": "execute_result"
        }
      ],
      "source": [
        "import requests\n",
        "from bs4 import BeautifulSoup\n",
        "import pandas as pd\n",
        "from tqdm import tqdm\n",
        "\n",
        "# Função para extrair as informações de um anúncio a partir de um URL\n",
        "def extrair_info_anuncio(url):\n",
        "    # Faz a requisição HTTP para o URL do anúncio\n",
        "    response = requests.get(url)\n",
        "    # Verifica se a requisição foi bem-sucedida\n",
        "    if response.status_code == 200:\n",
        "        # Parseia o conteúdo HTML\n",
        "        soup = BeautifulSoup(response.text, 'html.parser')\n",
        "        # Extrai as informações do anúncio\n",
        "        try:\n",
        "            titulo = soup.find('h1', class_='mb-0 font-weight-600 mobile-fs-1-5').text.strip()\n",
        "            preco = soup.find('h6', class_='align-text-left text-normal bb-m mr-6').text.split('\\n')[2].replace('.','')\n",
        "            area = soup.find('h6', class_='text-normal mb-0').text.split()[2].replace('.','').replace(',',\".\")\n",
        "            descricao = soup.find('p', class_='w-100 pb-3 mb-0 texto-descricao').text\n",
        "            try:\n",
        "               area = float(area)\n",
        "            except:\n",
        "               area = None\n",
        "            try:\n",
        "               preco = float(valor)\n",
        "            except:\n",
        "               valor = None\n",
        "            try:\n",
        "               valor_metro = float(area)/float(preco)\n",
        "            except:\n",
        "               valor_metro = None\n",
        "  \n",
        "            info = soup.find_all(\"h6\", class_='mb-0 text-normal')\n",
        "            imobiliaria = soup.find('h6', class_='pb-0 mb-0').text\n",
        "            creci = soup.find('div',class_='col-md-8 mt-2 ml-2').text.split('\\n')[2].split()[1]\n",
        "            tipo = soup.find('div', class_='col-lg-6').text.split()[2]\n",
        "\n",
        "            possibilidades = [\n",
        "            'Aquecimento Solar', 'Circuito de TV', 'Gerador de Energia', 'Piscina', 'Sala de Ginástica',\n",
        "            'Varanda', 'Cozinha Espaçosa', 'Ar Condicionado', 'Cobertura Coletiva', 'Guarita',\n",
        "            'PlayGround', 'Salão de Festas', 'Projeto de Iluminação', 'Pintura Nova', 'Área de Lazer',\n",
        "            'Interfone', 'Mobiliado', 'Área de Serviço', 'Brinquedoteca', 'Churrasqueira', 'Cozinha com Armários',\n",
        "            'Despensa', 'Escritório', 'Gás Canalizado', 'Jardim', 'Lavabo', 'Lazer no Pilotis', 'Poço Artesiano',\n",
        "            'Portão Eletrônico', 'Quadra Esportiva', 'Sala de Jogos', 'Salão de Jogos', 'Salão Gourmet', 'Sauna',\n",
        "            'SPA', 'Área de Serviço Coberta', 'Piso em Porcelanato', 'Vista Livre', 'Home Theater', 'Aceita Pet', 'Academia'\n",
        "            ]\n",
        "\n",
        "            resultados = {possibilidade: 0 for possibilidade in possibilidades}\n",
        "            checkbox = soup.find('ul', class_='checkboxes')\n",
        "            checkbox_text = checkbox.text.strip()\n",
        "            checkbox_list = checkbox_text.split('\\n')\n",
        "\n",
        "            for item in checkbox_list:\n",
        "              if item in resultados:\n",
        "                resultados[item] = 1\n",
        "\n",
        "            dados_dict = {}\n",
        "            for i in info:\n",
        "              item  = i.text.split()\n",
        "              chave = item[0]\n",
        "              valor = ' '.join(item[1:])\n",
        "              if chave in dados_dict:\n",
        "                dados_dict[chave].append(valor)\n",
        "              else:\n",
        "                dados_dict[chave] = [valor]\n",
        "            try:\n",
        "              quartos = dados_dict['Quartos:'][0]\n",
        "            except:\n",
        "              quartos = 0\n",
        "            try:\n",
        "              suites = dados_dict['Suítes:'][0]\n",
        "            except:\n",
        "              suites = 0\n",
        "            try:\n",
        "              garagem = dados_dict['Garagens:'][0]\n",
        "            except:\n",
        "              garagem = 0\n",
        "            try:\n",
        "              iptu = dados_dict['IPTU'][0]\n",
        "            except:\n",
        "              iptu = '0 SemInformacao'\n",
        "            try:\n",
        "              condominio = dados_dict['Condomínio'][0]\n",
        "            except:\n",
        "              condominio = '0 SemInformacao'\n",
        "            try:\n",
        "              regiao = dados_dict['Cidade:'][0]\n",
        "            except:\n",
        "              regiao = '0 SemInformacao'\n",
        "        except AttributeError as e:\n",
        "            print(e)\n",
        "            return None\n",
        "        # Retorna um dicionário com as informações do anúncio\n",
        "        return {\n",
        "            'Título': titulo,\n",
        "            \"Valor\": preco,\n",
        "            \"area\": area,\n",
        "            'Valor_metro': valor_metro,\n",
        "            'quartos': quartos,\n",
        "            'suites': suites,\n",
        "            'garagem': garagem,\n",
        "            'iptu': iptu.split()[1].replace('.',''),\n",
        "            'condominio': condominio.split()[1].replace('.',''),\n",
        "            'descricao': descricao, \n",
        "            'regiao': regiao.split('-')[1].strip(),\n",
        "            'cidade': regiao,\n",
        "            'imobiliaria': imobiliaria,\n",
        "            'creci': creci,\n",
        "            \"operacao\": 'venda',\n",
        "            **resultados,\n",
        "            'tipo': tipo\n",
        "        }\n",
        "    else:\n",
        "        print('Falha ao acessar o anúncio:', response.status_code)\n",
        "        return None\n",
        "\n",
        "# Lista de URLs dos anúncios\n",
        "urls_anuncios = [f\"https://www.dfimoveis.com.br/{pagina}\" for pagina in df_link['URL'].values[0:500]]\n",
        "\n",
        "# Lista para armazenar as informações dos anúncios\n",
        "info_anuncios_total = []\n",
        "\n",
        "# Extrai as informações de cada anúncio\n",
        "for url_anuncio in tqdm(urls_anuncios, desc='Extraindo informações dos anúncios'):\n",
        "    info_anuncio = extrair_info_anuncio(url_anuncio)\n",
        "    if info_anuncio:\n",
        "        info_anuncios_total.append(info_anuncio)\n",
        "\n",
        "# Se as informações foram obtidas com sucesso\n",
        "if info_anuncios_total:\n",
        "    # Cria um DataFrame com as informações dos anúncios\n",
        "    df = pd.DataFrame(info_anuncios_total)\n",
        "\n",
        "df"
      ]
    },
    {
      "cell_type": "code",
      "execution_count": 18,
      "metadata": {
        "id": "tOADDhlP0fap"
      },
      "outputs": [],
      "source": [
        "df.to_csv('df_venda.csv', index=False)"
      ]
    },
    {
      "cell_type": "code",
      "execution_count": 21,
      "metadata": {},
      "outputs": [],
      "source": [
        "df_aluguel = pd.read_csv('aluguel.csv')\n",
        "df_venda = pd.read_csv('df_vendas.csv')\n"
      ]
    },
    {
      "cell_type": "code",
      "execution_count": 22,
      "metadata": {},
      "outputs": [],
      "source": [
        "df_total = pd.concat([df_aluguel,df_venda])"
      ]
    },
    {
      "cell_type": "code",
      "execution_count": 23,
      "metadata": {},
      "outputs": [],
      "source": [
        "df_total.drop_duplicates()\n",
        "df_total.to_csv('imoveis.csv', index=False)\n"
      ]
    },
    {
      "cell_type": "code",
      "execution_count": 24,
      "metadata": {},
      "outputs": [],
      "source": [
        "import pandas as pd\n",
        "df = pd.read_csv(\"imoveis.csv\")"
      ]
    },
    {
      "cell_type": "code",
      "execution_count": 25,
      "metadata": {},
      "outputs": [
        {
          "data": {
            "text/html": [
              "<div>\n",
              "<style scoped>\n",
              "    .dataframe tbody tr th:only-of-type {\n",
              "        vertical-align: middle;\n",
              "    }\n",
              "\n",
              "    .dataframe tbody tr th {\n",
              "        vertical-align: top;\n",
              "    }\n",
              "\n",
              "    .dataframe thead th {\n",
              "        text-align: right;\n",
              "    }\n",
              "</style>\n",
              "<table border=\"1\" class=\"dataframe\">\n",
              "  <thead>\n",
              "    <tr style=\"text-align: right;\">\n",
              "      <th></th>\n",
              "      <th>Título</th>\n",
              "      <th>Valor</th>\n",
              "      <th>area</th>\n",
              "      <th>Valor_metro</th>\n",
              "      <th>quartos</th>\n",
              "      <th>suites</th>\n",
              "      <th>garagem</th>\n",
              "      <th>iptu</th>\n",
              "      <th>condominio</th>\n",
              "      <th>descricao</th>\n",
              "      <th>...</th>\n",
              "      <th>Salão Gourmet</th>\n",
              "      <th>Sauna</th>\n",
              "      <th>SPA</th>\n",
              "      <th>Área de Serviço Coberta</th>\n",
              "      <th>Piso em Porcelanato</th>\n",
              "      <th>Vista Livre</th>\n",
              "      <th>Home Theater</th>\n",
              "      <th>Aceita Pet</th>\n",
              "      <th>Academia</th>\n",
              "      <th>tipo</th>\n",
              "    </tr>\n",
              "  </thead>\n",
              "  <tbody>\n",
              "    <tr>\n",
              "      <th>0</th>\n",
              "      <td>SCS Quadra 06 Bloco A Lote 194</td>\n",
              "      <td>7000.0</td>\n",
              "      <td>200.00</td>\n",
              "      <td>0.028571</td>\n",
              "      <td>0</td>\n",
              "      <td>0</td>\n",
              "      <td>0</td>\n",
              "      <td>SemInformacao</td>\n",
              "      <td>2000</td>\n",
              "      <td>6º andar todo reformado, com 200 m², piso em p...</td>\n",
              "      <td>...</td>\n",
              "      <td>0</td>\n",
              "      <td>0</td>\n",
              "      <td>0</td>\n",
              "      <td>0</td>\n",
              "      <td>0</td>\n",
              "      <td>0</td>\n",
              "      <td>0</td>\n",
              "      <td>0</td>\n",
              "      <td>0</td>\n",
              "      <td>Prédio</td>\n",
              "    </tr>\n",
              "    <tr>\n",
              "      <th>1</th>\n",
              "      <td>SQNW 310 Bloco B</td>\n",
              "      <td>4900.0</td>\n",
              "      <td>76.00</td>\n",
              "      <td>0.015510</td>\n",
              "      <td>2</td>\n",
              "      <td>1</td>\n",
              "      <td>2</td>\n",
              "      <td>409</td>\n",
              "      <td>791</td>\n",
              "      <td>Excelente apartamento no condomínio Persona Ve...</td>\n",
              "      <td>...</td>\n",
              "      <td>0</td>\n",
              "      <td>1</td>\n",
              "      <td>0</td>\n",
              "      <td>0</td>\n",
              "      <td>0</td>\n",
              "      <td>0</td>\n",
              "      <td>0</td>\n",
              "      <td>0</td>\n",
              "      <td>0</td>\n",
              "      <td>Apartamento</td>\n",
              "    </tr>\n",
              "    <tr>\n",
              "      <th>2</th>\n",
              "      <td>COLONIA AGRICOLA SAMAMBAIA</td>\n",
              "      <td>9000.0</td>\n",
              "      <td>765.00</td>\n",
              "      <td>0.085000</td>\n",
              "      <td>5</td>\n",
              "      <td>3</td>\n",
              "      <td>21</td>\n",
              "      <td>SemInformacao</td>\n",
              "      <td>SemInformacao</td>\n",
              "      <td>Colônia Agrícola - Sobrado com 5 dormitórios, ...</td>\n",
              "      <td>...</td>\n",
              "      <td>0</td>\n",
              "      <td>1</td>\n",
              "      <td>0</td>\n",
              "      <td>0</td>\n",
              "      <td>0</td>\n",
              "      <td>0</td>\n",
              "      <td>0</td>\n",
              "      <td>0</td>\n",
              "      <td>0</td>\n",
              "      <td>Casa</td>\n",
              "    </tr>\n",
              "    <tr>\n",
              "      <th>3</th>\n",
              "      <td>SBS Quadra 02 Bloco S Lote 01</td>\n",
              "      <td>700.0</td>\n",
              "      <td>28.00</td>\n",
              "      <td>0.040000</td>\n",
              "      <td>0</td>\n",
              "      <td>0</td>\n",
              "      <td>0</td>\n",
              "      <td>257</td>\n",
              "      <td>562</td>\n",
              "      <td>Excelente sala comercial com piso laminado, ar...</td>\n",
              "      <td>...</td>\n",
              "      <td>0</td>\n",
              "      <td>0</td>\n",
              "      <td>0</td>\n",
              "      <td>0</td>\n",
              "      <td>0</td>\n",
              "      <td>0</td>\n",
              "      <td>0</td>\n",
              "      <td>0</td>\n",
              "      <td>0</td>\n",
              "      <td>Sala</td>\n",
              "    </tr>\n",
              "    <tr>\n",
              "      <th>4</th>\n",
              "      <td>Condomínio Prive Morada Sul</td>\n",
              "      <td>7950.0</td>\n",
              "      <td>500.00</td>\n",
              "      <td>0.062893</td>\n",
              "      <td>5</td>\n",
              "      <td>3</td>\n",
              "      <td>4</td>\n",
              "      <td>SemInformacao</td>\n",
              "      <td>849</td>\n",
              "      <td>Sem dúvida esta é uma daquelas oportunidades q...</td>\n",
              "      <td>...</td>\n",
              "      <td>0</td>\n",
              "      <td>0</td>\n",
              "      <td>0</td>\n",
              "      <td>0</td>\n",
              "      <td>0</td>\n",
              "      <td>0</td>\n",
              "      <td>0</td>\n",
              "      <td>0</td>\n",
              "      <td>0</td>\n",
              "      <td>Casa</td>\n",
              "    </tr>\n",
              "    <tr>\n",
              "      <th>...</th>\n",
              "      <td>...</td>\n",
              "      <td>...</td>\n",
              "      <td>...</td>\n",
              "      <td>...</td>\n",
              "      <td>...</td>\n",
              "      <td>...</td>\n",
              "      <td>...</td>\n",
              "      <td>...</td>\n",
              "      <td>...</td>\n",
              "      <td>...</td>\n",
              "      <td>...</td>\n",
              "      <td>...</td>\n",
              "      <td>...</td>\n",
              "      <td>...</td>\n",
              "      <td>...</td>\n",
              "      <td>...</td>\n",
              "      <td>...</td>\n",
              "      <td>...</td>\n",
              "      <td>...</td>\n",
              "      <td>...</td>\n",
              "      <td>...</td>\n",
              "    </tr>\n",
              "    <tr>\n",
              "      <th>49723</th>\n",
              "      <td>QS 502</td>\n",
              "      <td>268000.0</td>\n",
              "      <td>51.00</td>\n",
              "      <td>0.000190</td>\n",
              "      <td>2</td>\n",
              "      <td>1</td>\n",
              "      <td>1</td>\n",
              "      <td>424</td>\n",
              "      <td>397</td>\n",
              "      <td>-  2 quartos, sendo 1 suíte com amários- Cozin...</td>\n",
              "      <td>...</td>\n",
              "      <td>0</td>\n",
              "      <td>0</td>\n",
              "      <td>0</td>\n",
              "      <td>0</td>\n",
              "      <td>0</td>\n",
              "      <td>0</td>\n",
              "      <td>0</td>\n",
              "      <td>0</td>\n",
              "      <td>0</td>\n",
              "      <td>Apartamento</td>\n",
              "    </tr>\n",
              "    <tr>\n",
              "      <th>49724</th>\n",
              "      <td>SHA Conjunto 5 Chacará 125</td>\n",
              "      <td>410000.0</td>\n",
              "      <td>130.00</td>\n",
              "      <td>0.000317</td>\n",
              "      <td>2</td>\n",
              "      <td>1</td>\n",
              "      <td>5</td>\n",
              "      <td>SemInformacao</td>\n",
              "      <td>SemInformacao</td>\n",
              "      <td>Beiramar apresenta:Casa em Arniqueira com loca...</td>\n",
              "      <td>...</td>\n",
              "      <td>0</td>\n",
              "      <td>0</td>\n",
              "      <td>0</td>\n",
              "      <td>0</td>\n",
              "      <td>0</td>\n",
              "      <td>0</td>\n",
              "      <td>0</td>\n",
              "      <td>0</td>\n",
              "      <td>0</td>\n",
              "      <td>Casa</td>\n",
              "    </tr>\n",
              "    <tr>\n",
              "      <th>49725</th>\n",
              "      <td>QNA 24</td>\n",
              "      <td>650000.0</td>\n",
              "      <td>280.00</td>\n",
              "      <td>0.000431</td>\n",
              "      <td>5</td>\n",
              "      <td>1</td>\n",
              "      <td>4</td>\n",
              "      <td>SemInformacao</td>\n",
              "      <td>SemInformacao</td>\n",
              "      <td>Ágio casa qna,5 qtos , garagem pra 4 carros es...</td>\n",
              "      <td>...</td>\n",
              "      <td>0</td>\n",
              "      <td>0</td>\n",
              "      <td>0</td>\n",
              "      <td>0</td>\n",
              "      <td>0</td>\n",
              "      <td>0</td>\n",
              "      <td>0</td>\n",
              "      <td>0</td>\n",
              "      <td>0</td>\n",
              "      <td>Casa</td>\n",
              "    </tr>\n",
              "    <tr>\n",
              "      <th>49726</th>\n",
              "      <td>Rua COPAIBA</td>\n",
              "      <td>550000.0</td>\n",
              "      <td>84.00</td>\n",
              "      <td>0.000153</td>\n",
              "      <td>3</td>\n",
              "      <td>2</td>\n",
              "      <td>1</td>\n",
              "      <td>SemInformacao</td>\n",
              "      <td>SemInformacao</td>\n",
              "      <td>.</td>\n",
              "      <td>...</td>\n",
              "      <td>0</td>\n",
              "      <td>0</td>\n",
              "      <td>0</td>\n",
              "      <td>0</td>\n",
              "      <td>0</td>\n",
              "      <td>0</td>\n",
              "      <td>0</td>\n",
              "      <td>0</td>\n",
              "      <td>0</td>\n",
              "      <td>Apartamento</td>\n",
              "    </tr>\n",
              "    <tr>\n",
              "      <th>49727</th>\n",
              "      <td>Rua 5  - Modern Life</td>\n",
              "      <td>310000.0</td>\n",
              "      <td>32.57</td>\n",
              "      <td>0.000105</td>\n",
              "      <td>1</td>\n",
              "      <td>0</td>\n",
              "      <td>1</td>\n",
              "      <td>SemInformacao</td>\n",
              "      <td>SemInformacao</td>\n",
              "      <td>VENDO EXCELENTE IMÓVEL, REFORMADO E MOBILIADO,...</td>\n",
              "      <td>...</td>\n",
              "      <td>0</td>\n",
              "      <td>0</td>\n",
              "      <td>0</td>\n",
              "      <td>0</td>\n",
              "      <td>0</td>\n",
              "      <td>0</td>\n",
              "      <td>0</td>\n",
              "      <td>0</td>\n",
              "      <td>0</td>\n",
              "      <td>Apartamento</td>\n",
              "    </tr>\n",
              "  </tbody>\n",
              "</table>\n",
              "<p>49728 rows × 57 columns</p>\n",
              "</div>"
            ],
            "text/plain": [
              "                               Título     Valor    area  Valor_metro  quartos  \\\n",
              "0      SCS Quadra 06 Bloco A Lote 194    7000.0  200.00     0.028571        0   \n",
              "1                    SQNW 310 Bloco B    4900.0   76.00     0.015510        2   \n",
              "2          COLONIA AGRICOLA SAMAMBAIA    9000.0  765.00     0.085000        5   \n",
              "3       SBS Quadra 02 Bloco S Lote 01     700.0   28.00     0.040000        0   \n",
              "4         Condomínio Prive Morada Sul    7950.0  500.00     0.062893        5   \n",
              "...                               ...       ...     ...          ...      ...   \n",
              "49723                          QS 502  268000.0   51.00     0.000190        2   \n",
              "49724      SHA Conjunto 5 Chacará 125  410000.0  130.00     0.000317        2   \n",
              "49725                          QNA 24  650000.0  280.00     0.000431        5   \n",
              "49726                     Rua COPAIBA  550000.0   84.00     0.000153        3   \n",
              "49727            Rua 5  - Modern Life  310000.0   32.57     0.000105        1   \n",
              "\n",
              "       suites  garagem           iptu     condominio  \\\n",
              "0           0        0  SemInformacao           2000   \n",
              "1           1        2            409            791   \n",
              "2           3       21  SemInformacao  SemInformacao   \n",
              "3           0        0            257            562   \n",
              "4           3        4  SemInformacao            849   \n",
              "...       ...      ...            ...            ...   \n",
              "49723       1        1            424            397   \n",
              "49724       1        5  SemInformacao  SemInformacao   \n",
              "49725       1        4  SemInformacao  SemInformacao   \n",
              "49726       2        1  SemInformacao  SemInformacao   \n",
              "49727       0        1  SemInformacao  SemInformacao   \n",
              "\n",
              "                                               descricao  ... Salão Gourmet  \\\n",
              "0      6º andar todo reformado, com 200 m², piso em p...  ...             0   \n",
              "1      Excelente apartamento no condomínio Persona Ve...  ...             0   \n",
              "2      Colônia Agrícola - Sobrado com 5 dormitórios, ...  ...             0   \n",
              "3      Excelente sala comercial com piso laminado, ar...  ...             0   \n",
              "4      Sem dúvida esta é uma daquelas oportunidades q...  ...             0   \n",
              "...                                                  ...  ...           ...   \n",
              "49723  -  2 quartos, sendo 1 suíte com amários- Cozin...  ...             0   \n",
              "49724  Beiramar apresenta:Casa em Arniqueira com loca...  ...             0   \n",
              "49725  Ágio casa qna,5 qtos , garagem pra 4 carros es...  ...             0   \n",
              "49726                                                  .  ...             0   \n",
              "49727  VENDO EXCELENTE IMÓVEL, REFORMADO E MOBILIADO,...  ...             0   \n",
              "\n",
              "      Sauna SPA Área de Serviço Coberta Piso em Porcelanato  Vista Livre  \\\n",
              "0         0   0                       0                   0            0   \n",
              "1         1   0                       0                   0            0   \n",
              "2         1   0                       0                   0            0   \n",
              "3         0   0                       0                   0            0   \n",
              "4         0   0                       0                   0            0   \n",
              "...     ...  ..                     ...                 ...          ...   \n",
              "49723     0   0                       0                   0            0   \n",
              "49724     0   0                       0                   0            0   \n",
              "49725     0   0                       0                   0            0   \n",
              "49726     0   0                       0                   0            0   \n",
              "49727     0   0                       0                   0            0   \n",
              "\n",
              "       Home Theater  Aceita Pet  Academia         tipo  \n",
              "0                 0           0         0       Prédio  \n",
              "1                 0           0         0  Apartamento  \n",
              "2                 0           0         0         Casa  \n",
              "3                 0           0         0         Sala  \n",
              "4                 0           0         0         Casa  \n",
              "...             ...         ...       ...          ...  \n",
              "49723             0           0         0  Apartamento  \n",
              "49724             0           0         0         Casa  \n",
              "49725             0           0         0         Casa  \n",
              "49726             0           0         0  Apartamento  \n",
              "49727             0           0         0  Apartamento  \n",
              "\n",
              "[49728 rows x 57 columns]"
            ]
          },
          "execution_count": 25,
          "metadata": {},
          "output_type": "execute_result"
        }
      ],
      "source": [
        "df"
      ]
    }
  ],
  "metadata": {
    "colab": {
      "provenance": []
    },
    "kernelspec": {
      "display_name": "Python 3",
      "name": "python3"
    },
    "language_info": {
      "codemirror_mode": {
        "name": "ipython",
        "version": 3
      },
      "file_extension": ".py",
      "mimetype": "text/x-python",
      "name": "python",
      "nbconvert_exporter": "python",
      "pygments_lexer": "ipython3",
      "version": "3.11.1"
    }
  },
  "nbformat": 4,
  "nbformat_minor": 0
}

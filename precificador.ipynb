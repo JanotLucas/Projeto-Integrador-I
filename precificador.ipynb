{
 "cells": [
  {
   "cell_type": "markdown",
   "metadata": {},
   "source": [
    "REGRESSÃO LINEAR - PARA PRECIFICADOR DE IMÓVEIS"
   ]
  },
  {
   "cell_type": "markdown",
   "metadata": {},
   "source": [
    "Um dos modelos que será usado para o projeto de precificação de imóveis será o Modelo de Regressão Linear.\n",
    "\n",
    "A regressão é uma técnica de aprendeixado de máquina supervisionada que é utilizada para prever valores numéricos contínuos, portanto, esse modelo encontra a relação entre as variáveis dependentes (Y/Valor) e independente (X/características) do nosso conjunto de dados de imóveis.\n",
    "\n",
    "Mais precisamente, utilizaremos será feito uma Regressão Linear Múltipla, pois precismaos encontrar entre as variáveis independentes (X1, X2, ...,Xn (Características)) e a variável dependente (Y/Valor).\n",
    "\n",
    "Para avaliarmos o Modelo de Regressão utilizaremos algumas metricos, como:\n",
    "\n",
    "-Root Mean Squere Error (RMSE);\n",
    "\n",
    "-Mean Square Error (MSE);\n",
    "\n",
    "-Mean Absolute Error (MAE);\n",
    "\n",
    "-Median Absolute Error;\n",
    "\n",
    "-Explained Variance Score;\n",
    "\n",
    "-R2 Score;\n",
    "\n",
    "-Adjusted R2."
   ]
  },
  {
   "cell_type": "code",
   "execution_count": 1,
   "metadata": {},
   "outputs": [],
   "source": [
    "## Importação das bibliotecas necessárias para o modelo\n",
    "\n",
    "# Preparar dados\n",
    "import pandas as pd\n",
    "from sklearn.model_selection import train_test_split\n",
    "from sklearn.preprocessing import MinMaxScaler\n",
    "from sklearn.preprocessing import LabelEncoder\n",
    "\n",
    "# Métricas Regressão\n",
    "import sklearn.metrics as sm\n",
    "import numpy as np\n",
    "\n",
    "import matplotlib.pyplot as plt\n",
    "\n",
    "# Criar Modelos\n",
    "from keras.models import Sequential\n",
    "from keras.layers import Input, Dense\n",
    "from keras.layers import Dropout\n",
    "from keras.regularizers import l1_l2\n",
    "from keras.callbacks import EarlyStopping\n",
    "\n",
    "# limpar a tela do jupyter ##Limpa as saidas para deixar o código mais bonito\n",
    "from IPython.display import clear_output"
   ]
  },
  {
   "cell_type": "code",
   "execution_count": 2,
   "metadata": {},
   "outputs": [],
   "source": [
    "# Dados Totais\n",
    "df = pd.read_csv('https://raw.githubusercontent.com/JanotLucas/Projeto-Integrador-I/main/imoveis.csv')"
   ]
  },
  {
   "cell_type": "markdown",
   "metadata": {},
   "source": [
    "Análise Descritiva dos dados de imóveis"
   ]
  },
  {
   "cell_type": "code",
   "execution_count": 3,
   "metadata": {},
   "outputs": [
    {
     "data": {
      "text/plain": [
       "48408"
      ]
     },
     "execution_count": 3,
     "metadata": {},
     "output_type": "execute_result"
    }
   ],
   "source": [
    "len(df)"
   ]
  },
  {
   "cell_type": "code",
   "execution_count": 4,
   "metadata": {},
   "outputs": [
    {
     "data": {
      "text/html": [
       "<div>\n",
       "<style scoped>\n",
       "    .dataframe tbody tr th:only-of-type {\n",
       "        vertical-align: middle;\n",
       "    }\n",
       "\n",
       "    .dataframe tbody tr th {\n",
       "        vertical-align: top;\n",
       "    }\n",
       "\n",
       "    .dataframe thead th {\n",
       "        text-align: right;\n",
       "    }\n",
       "</style>\n",
       "<table border=\"1\" class=\"dataframe\">\n",
       "  <thead>\n",
       "    <tr style=\"text-align: right;\">\n",
       "      <th></th>\n",
       "      <th>index</th>\n",
       "      <th>Título</th>\n",
       "      <th>Valor</th>\n",
       "      <th>area</th>\n",
       "      <th>Valor_metro</th>\n",
       "      <th>quartos</th>\n",
       "      <th>suites</th>\n",
       "      <th>garagem</th>\n",
       "      <th>iptu</th>\n",
       "      <th>condominio</th>\n",
       "      <th>...</th>\n",
       "      <th>Salão Gourmet</th>\n",
       "      <th>Sauna</th>\n",
       "      <th>SPA</th>\n",
       "      <th>Área de Serviço Coberta</th>\n",
       "      <th>Piso em Porcelanato</th>\n",
       "      <th>Vista Livre</th>\n",
       "      <th>Home Theater</th>\n",
       "      <th>Aceita Pet</th>\n",
       "      <th>Academia</th>\n",
       "      <th>tipo</th>\n",
       "    </tr>\n",
       "  </thead>\n",
       "  <tbody>\n",
       "    <tr>\n",
       "      <th>0</th>\n",
       "      <td>0</td>\n",
       "      <td>SCS Quadra 06 Bloco A Lote 194</td>\n",
       "      <td>7000.0</td>\n",
       "      <td>200.0</td>\n",
       "      <td>7000.0</td>\n",
       "      <td>0</td>\n",
       "      <td>0</td>\n",
       "      <td>0</td>\n",
       "      <td>NaN</td>\n",
       "      <td>2000.0</td>\n",
       "      <td>...</td>\n",
       "      <td>0</td>\n",
       "      <td>0</td>\n",
       "      <td>0</td>\n",
       "      <td>0</td>\n",
       "      <td>0</td>\n",
       "      <td>0</td>\n",
       "      <td>0</td>\n",
       "      <td>0</td>\n",
       "      <td>0</td>\n",
       "      <td>Prédio</td>\n",
       "    </tr>\n",
       "    <tr>\n",
       "      <th>1</th>\n",
       "      <td>1</td>\n",
       "      <td>Rua 14</td>\n",
       "      <td>2000.0</td>\n",
       "      <td>63.0</td>\n",
       "      <td>2000.0</td>\n",
       "      <td>2</td>\n",
       "      <td>1</td>\n",
       "      <td>1</td>\n",
       "      <td>86.0</td>\n",
       "      <td>486.0</td>\n",
       "      <td>...</td>\n",
       "      <td>0</td>\n",
       "      <td>0</td>\n",
       "      <td>0</td>\n",
       "      <td>0</td>\n",
       "      <td>0</td>\n",
       "      <td>0</td>\n",
       "      <td>0</td>\n",
       "      <td>0</td>\n",
       "      <td>0</td>\n",
       "      <td>Apartamento</td>\n",
       "    </tr>\n",
       "    <tr>\n",
       "      <th>2</th>\n",
       "      <td>2</td>\n",
       "      <td>SQNW 310 Bloco B</td>\n",
       "      <td>5100.0</td>\n",
       "      <td>76.0</td>\n",
       "      <td>5100.0</td>\n",
       "      <td>2</td>\n",
       "      <td>1</td>\n",
       "      <td>2</td>\n",
       "      <td>409.0</td>\n",
       "      <td>791.0</td>\n",
       "      <td>...</td>\n",
       "      <td>0</td>\n",
       "      <td>1</td>\n",
       "      <td>0</td>\n",
       "      <td>0</td>\n",
       "      <td>0</td>\n",
       "      <td>0</td>\n",
       "      <td>0</td>\n",
       "      <td>0</td>\n",
       "      <td>0</td>\n",
       "      <td>Apartamento</td>\n",
       "    </tr>\n",
       "    <tr>\n",
       "      <th>3</th>\n",
       "      <td>3</td>\n",
       "      <td>Rua COPAIBA</td>\n",
       "      <td>1800.0</td>\n",
       "      <td>32.0</td>\n",
       "      <td>1800.0</td>\n",
       "      <td>0</td>\n",
       "      <td>0</td>\n",
       "      <td>1</td>\n",
       "      <td>NaN</td>\n",
       "      <td>400.0</td>\n",
       "      <td>...</td>\n",
       "      <td>0</td>\n",
       "      <td>0</td>\n",
       "      <td>0</td>\n",
       "      <td>0</td>\n",
       "      <td>0</td>\n",
       "      <td>0</td>\n",
       "      <td>0</td>\n",
       "      <td>0</td>\n",
       "      <td>0</td>\n",
       "      <td>Sala</td>\n",
       "    </tr>\n",
       "    <tr>\n",
       "      <th>4</th>\n",
       "      <td>4</td>\n",
       "      <td>SHIS QL 12</td>\n",
       "      <td>95000.0</td>\n",
       "      <td>1952.0</td>\n",
       "      <td>95000.0</td>\n",
       "      <td>15</td>\n",
       "      <td>0</td>\n",
       "      <td>0</td>\n",
       "      <td>15659.0</td>\n",
       "      <td>NaN</td>\n",
       "      <td>...</td>\n",
       "      <td>0</td>\n",
       "      <td>0</td>\n",
       "      <td>0</td>\n",
       "      <td>0</td>\n",
       "      <td>0</td>\n",
       "      <td>0</td>\n",
       "      <td>0</td>\n",
       "      <td>0</td>\n",
       "      <td>0</td>\n",
       "      <td>Casa</td>\n",
       "    </tr>\n",
       "  </tbody>\n",
       "</table>\n",
       "<p>5 rows × 57 columns</p>\n",
       "</div>"
      ],
      "text/plain": [
       "   index                          Título    Valor    area  Valor_metro  \\\n",
       "0      0  SCS Quadra 06 Bloco A Lote 194   7000.0   200.0       7000.0   \n",
       "1      1                          Rua 14   2000.0    63.0       2000.0   \n",
       "2      2                SQNW 310 Bloco B   5100.0    76.0       5100.0   \n",
       "3      3                     Rua COPAIBA   1800.0    32.0       1800.0   \n",
       "4      4                      SHIS QL 12  95000.0  1952.0      95000.0   \n",
       "\n",
       "   quartos  suites  garagem     iptu  condominio  ... Salão Gourmet Sauna SPA  \\\n",
       "0        0       0        0      NaN      2000.0  ...             0     0   0   \n",
       "1        2       1        1     86.0       486.0  ...             0     0   0   \n",
       "2        2       1        2    409.0       791.0  ...             0     1   0   \n",
       "3        0       0        1      NaN       400.0  ...             0     0   0   \n",
       "4       15       0        0  15659.0         NaN  ...             0     0   0   \n",
       "\n",
       "  Área de Serviço Coberta Piso em Porcelanato  Vista Livre  Home Theater  \\\n",
       "0                       0                   0            0             0   \n",
       "1                       0                   0            0             0   \n",
       "2                       0                   0            0             0   \n",
       "3                       0                   0            0             0   \n",
       "4                       0                   0            0             0   \n",
       "\n",
       "   Aceita Pet  Academia         tipo  \n",
       "0           0         0       Prédio  \n",
       "1           0         0  Apartamento  \n",
       "2           0         0  Apartamento  \n",
       "3           0         0         Sala  \n",
       "4           0         0         Casa  \n",
       "\n",
       "[5 rows x 57 columns]"
      ]
     },
     "execution_count": 4,
     "metadata": {},
     "output_type": "execute_result"
    }
   ],
   "source": [
    "df.head()"
   ]
  },
  {
   "cell_type": "code",
   "execution_count": 5,
   "metadata": {},
   "outputs": [
    {
     "name": "stdout",
     "output_type": "stream",
     "text": [
      "<class 'pandas.core.frame.DataFrame'>\n",
      "RangeIndex: 48408 entries, 0 to 48407\n",
      "Data columns (total 57 columns):\n",
      " #   Column                   Non-Null Count  Dtype  \n",
      "---  ------                   --------------  -----  \n",
      " 0   index                    48408 non-null  int64  \n",
      " 1   Título                   48408 non-null  object \n",
      " 2   Valor                    48402 non-null  float64\n",
      " 3   area                     48408 non-null  float64\n",
      " 4   Valor_metro              48402 non-null  float64\n",
      " 5   quartos                  48408 non-null  int64  \n",
      " 6   suites                   48408 non-null  int64  \n",
      " 7   garagem                  48408 non-null  int64  \n",
      " 8   iptu                     13934 non-null  float64\n",
      " 9   condominio               22208 non-null  float64\n",
      " 10  regiao                   48408 non-null  object \n",
      " 11  cidade                   48408 non-null  object \n",
      " 12  imobiliaria              48408 non-null  object \n",
      " 13  creci                    48408 non-null  object \n",
      " 14  operacao                 48408 non-null  object \n",
      " 15  Aquecimento Solar        48408 non-null  int64  \n",
      " 16  Circuito de TV           48408 non-null  int64  \n",
      " 17  Gerador de Energia       48408 non-null  int64  \n",
      " 18  Piscina                  48408 non-null  int64  \n",
      " 19  Sala de Ginástica        48408 non-null  int64  \n",
      " 20  Varanda                  48408 non-null  int64  \n",
      " 21  Cozinha Espaçosa         48408 non-null  int64  \n",
      " 22  Ar Condicionado          48408 non-null  int64  \n",
      " 23  Cobertura Coletiva       48408 non-null  int64  \n",
      " 24  Guarita                  48408 non-null  int64  \n",
      " 25  PlayGround               48408 non-null  int64  \n",
      " 26  Salão de Festas          48408 non-null  int64  \n",
      " 27  Projeto de Iluminação    48408 non-null  int64  \n",
      " 28  Pintura Nova             48408 non-null  int64  \n",
      " 29  Área de Lazer            48408 non-null  int64  \n",
      " 30  Interfone                48408 non-null  int64  \n",
      " 31  Mobiliado                48408 non-null  int64  \n",
      " 32  Área de Serviço          48408 non-null  int64  \n",
      " 33  Brinquedoteca            48408 non-null  int64  \n",
      " 34  Churrasqueira            48408 non-null  int64  \n",
      " 35  Cozinha com Armários     48408 non-null  int64  \n",
      " 36  Despensa                 48408 non-null  int64  \n",
      " 37  Escritório               48408 non-null  int64  \n",
      " 38  Gás Canalizado           48408 non-null  int64  \n",
      " 39  Jardim                   48408 non-null  int64  \n",
      " 40  Lavabo                   48408 non-null  int64  \n",
      " 41  Lazer no Pilotis         48408 non-null  int64  \n",
      " 42  Poço Artesiano           48408 non-null  int64  \n",
      " 43  Portão Eletrônico        48408 non-null  int64  \n",
      " 44  Quadra Esportiva         48408 non-null  int64  \n",
      " 45  Sala de Jogos            48408 non-null  int64  \n",
      " 46  Salão de Jogos           48408 non-null  int64  \n",
      " 47  Salão Gourmet            48408 non-null  int64  \n",
      " 48  Sauna                    48408 non-null  int64  \n",
      " 49  SPA                      48408 non-null  int64  \n",
      " 50  Área de Serviço Coberta  48408 non-null  int64  \n",
      " 51  Piso em Porcelanato      48408 non-null  int64  \n",
      " 52  Vista Livre              48408 non-null  int64  \n",
      " 53  Home Theater             48408 non-null  int64  \n",
      " 54  Aceita Pet               48408 non-null  int64  \n",
      " 55  Academia                 48408 non-null  int64  \n",
      " 56  tipo                     48408 non-null  object \n",
      "dtypes: float64(5), int64(45), object(7)\n",
      "memory usage: 21.1+ MB\n"
     ]
    }
   ],
   "source": [
    "df.info()"
   ]
  },
  {
   "cell_type": "code",
   "execution_count": null,
   "metadata": {},
   "outputs": [],
   "source": [
    "# Exibe a porcentagem de valores núlos por coluna\n",
    "df.isna().sum() * 100 / len(df)"
   ]
  },
  {
   "cell_type": "code",
   "execution_count": null,
   "metadata": {},
   "outputs": [],
   "source": [
    "# Apagando as colunas de IPTU e Condomínio por causa da alta quantidade de valores nulos\n",
    "df = df.drop(columns=['iptu', 'condominio'])"
   ]
  },
  {
   "cell_type": "code",
   "execution_count": null,
   "metadata": {},
   "outputs": [],
   "source": [
    "# Apagando a coluna 'Valor_metro' porque ela tem o mesmo valor da coluna 'Valor'\n",
    "df = df.drop(columns=['Valor_metro'])"
   ]
  },
  {
   "cell_type": "code",
   "execution_count": null,
   "metadata": {},
   "outputs": [],
   "source": [
    "#Verificar quais são os nulos na coluna 'Valor'\n",
    "valores_nulos = df['Valor'].isnull()\n",
    "\n",
    "# Filtrando para mostrar apenas as linhas com valores nulos na coluna 'Valor'\n",
    "nulos_na_coluna_valor = df[valores_nulos]\n",
    "nulos_na_coluna_valor"
   ]
  },
  {
   "cell_type": "code",
   "execution_count": null,
   "metadata": {},
   "outputs": [],
   "source": [
    "# Exibe a porcentagem de valores núlos por coluna\n",
    "df.isna().sum() * 100 / len(df)"
   ]
  },
  {
   "cell_type": "markdown",
   "metadata": {},
   "source": [
    "### OBS: Os nulos da coluna 'Valor' e da coluna 'Valor_metro' são os mesmo"
   ]
  },
  {
   "cell_type": "code",
   "execution_count": null,
   "metadata": {},
   "outputs": [],
   "source": [
    "# Pegar a média dos valores por tipo de operação\n",
    "valor_medio_por_tipo_operacao = df.groupby(['tipo', 'operacao'])['Valor'].mean()\n",
    "\n",
    "# Formatar os valores para representar duas casas decimais e adiciona separadores de milhares\n",
    "valor_medio_por_tipo_operacao_formatado = valor_medio_por_tipo_operacao.map('{:,.2f}'.format)\n",
    "\n",
    "print(valor_medio_por_tipo_operacao_formatado)"
   ]
  },
  {
   "cell_type": "code",
   "execution_count": null,
   "metadata": {},
   "outputs": [],
   "source": [
    "# Filtrar os dados para incluir apenas a região 'Asa Norte'\n",
    "df_asa_norte = df[df['regiao'] == 'ASA NORTE']\n",
    "\n",
    "# Calcular a média dos valores por tipo de operação para a região 'Asa Norte'\n",
    "valor_medio_por_tipo_operacao_asa_norte = df_asa_norte.groupby(['tipo', 'operacao'])['Valor'].mean()\n",
    "\n",
    "# Formatar os valores para representar duas casas decimais e adicionar separadores de milhares\n",
    "valor_medio_por_tipo_operacao_asa_norte_formatado = valor_medio_por_tipo_operacao_asa_norte.map('{:,.2f}'.format)\n",
    "\n",
    "print(valor_medio_por_tipo_operacao_asa_norte_formatado)"
   ]
  },
  {
   "cell_type": "markdown",
   "metadata": {},
   "source": [
    "### OBS: Após a análise acima, vou substituir os valores nulos pela mediana, pois a média está discrepante."
   ]
  },
  {
   "cell_type": "code",
   "execution_count": null,
   "metadata": {},
   "outputs": [],
   "source": [
    "# Calcular a mediana para cada combinação de tipo de imóvel e região\n",
    "mediana_por_tipo_e_regiao = df.groupby(['tipo', 'regiao'])['Valor'].median()\n",
    "\n",
    "# Substituir os valores nulos pela mediana correspondente de cada tipo de imóvel e região\n",
    "for tipo, regiao in mediana_por_tipo_e_regiao.index:\n",
    "    filtro = (df['tipo'] == tipo) & (df['regiao'] == regiao)\n",
    "    mediana = mediana_por_tipo_e_regiao[(tipo, regiao)]\n",
    "    df.loc[filtro, 'Valor'] = df.loc[filtro, 'Valor'].fillna(mediana)"
   ]
  },
  {
   "cell_type": "code",
   "execution_count": null,
   "metadata": {},
   "outputs": [],
   "source": [
    "# Exibe a porcentagem de valores núlos por coluna\n",
    "df.isna().sum() * 100 / len(df)"
   ]
  },
  {
   "cell_type": "code",
   "execution_count": null,
   "metadata": {},
   "outputs": [],
   "source": [
    "# Resumo estatístico básico\n",
    "resumo_df = df.describe()\n",
    "resumo_df"
   ]
  },
  {
   "cell_type": "markdown",
   "metadata": {},
   "source": [
    "Após a análise descritiva dos dados, será feito a separação da base de dados em imóveis que estão para venda e para aluguel, para assim, fazer o modelo de cada um."
   ]
  },
  {
   "cell_type": "markdown",
   "metadata": {},
   "source": [
    "Análise Descritiva dos dados de imóveis para a venda"
   ]
  },
  {
   "cell_type": "code",
   "execution_count": null,
   "metadata": {},
   "outputs": [],
   "source": [
    "#Base Venda\n",
    "df_venda = df[df['operacao'] == 'venda']"
   ]
  },
  {
   "cell_type": "code",
   "execution_count": null,
   "metadata": {},
   "outputs": [],
   "source": [
    "df_venda.head()"
   ]
  },
  {
   "cell_type": "code",
   "execution_count": null,
   "metadata": {},
   "outputs": [],
   "source": [
    "len(df_venda)"
   ]
  },
  {
   "cell_type": "code",
   "execution_count": null,
   "metadata": {},
   "outputs": [],
   "source": [
    "df_venda.info()"
   ]
  },
  {
   "cell_type": "markdown",
   "metadata": {},
   "source": [
    "Removendo as colunas que eu considero irrelevante para o modelo"
   ]
  },
  {
   "cell_type": "code",
   "execution_count": null,
   "metadata": {},
   "outputs": [],
   "source": [
    "df_venda = df_venda.drop(columns=[ 'index', 'Título', 'cidade', 'imobiliaria', 'creci', 'operacao', 'Aquecimento Solar', 'Circuito de TV', 'Gerador de Energia', 'Cobertura Coletiva', 'Guarita', 'Interfone', 'Mobiliado', 'Despensa', 'Escritório', 'Gás Canalizado', 'Jardim', 'Lavabo', 'Lazer no Pilotis',  'Poço Artesiano', 'Portão Eletrônico', 'Quadra Esportiva', 'Sala de Jogos', 'Salão de Jogos', 'Salão Gourmet', 'Sauna', 'SPA', 'Área de Serviço Coberta', 'Piso em Porcelanato', 'Vista Livre', 'Home Theater', 'Aceita Pet' ])"
   ]
  },
  {
   "cell_type": "code",
   "execution_count": null,
   "metadata": {},
   "outputs": [],
   "source": [
    "df_venda.info()"
   ]
  },
  {
   "cell_type": "code",
   "execution_count": null,
   "metadata": {},
   "outputs": [],
   "source": [
    "df_venda['tipo'].value_counts()"
   ]
  },
  {
   "cell_type": "code",
   "execution_count": null,
   "metadata": {},
   "outputs": [],
   "source": [
    "# Configurar para exibir todas as linhas\n",
    "pd.set_option('display.max_rows', None)"
   ]
  },
  {
   "cell_type": "code",
   "execution_count": null,
   "metadata": {},
   "outputs": [],
   "source": [
    "df_venda['regiao'].value_counts()"
   ]
  },
  {
   "cell_type": "markdown",
   "metadata": {},
   "source": [
    "Transformando as string em numérico"
   ]
  },
  {
   "cell_type": "code",
   "execution_count": null,
   "metadata": {},
   "outputs": [],
   "source": [
    "from sklearn.preprocessing import LabelEncoder\n",
    "\n",
    "# Criar uma instância do LabelEncoder\n",
    "label_encoder = LabelEncoder()\n",
    "\n",
    "# Ajustar o encoder aos valores da coluna região\n",
    "df_venda['regiao_encoded'] = label_encoder.fit_transform(df_venda['regiao'])\n",
    "\n",
    "# Mapear os valores originais para os valores codificados\n",
    "mapeamento = dict(zip(label_encoder.classes_, label_encoder.transform(label_encoder.classes_)))\n",
    "\n",
    "# Mostrar o mapeamento\n",
    "print(\"Mapeamento:\")\n",
    "for regiao, encoded_value in mapeamento.items():\n",
    "    print(f\"{regiao}: {encoded_value}\")"
   ]
  },
  {
   "cell_type": "code",
   "execution_count": null,
   "metadata": {},
   "outputs": [],
   "source": [
    "\n",
    "# Ajustar o encoder aos valores da coluna região\n",
    "df_venda['tipo_encoded'] = label_encoder.fit_transform(df_venda['tipo'])\n",
    "\n",
    "# Mapear os valores originais para os valores codificados\n",
    "mapeamento = dict(zip(label_encoder.classes_, label_encoder.transform(label_encoder.classes_)))\n",
    "\n",
    "# Mostrar o mapeamento\n",
    "print(\"Mapeamento:\")\n",
    "for tipo, encoded_value in mapeamento.items():\n",
    "    print(f\"{tipo}: {encoded_value}\")"
   ]
  },
  {
   "cell_type": "markdown",
   "metadata": {},
   "source": [
    "Separar o X e o y, Normalizando os dados, e separar os dados em treinamento, teste e validação"
   ]
  },
  {
   "cell_type": "code",
   "execution_count": null,
   "metadata": {},
   "outputs": [],
   "source": [
    "df_venda = df_venda.drop(columns=['regiao', 'tipo'])"
   ]
  },
  {
   "cell_type": "code",
   "execution_count": null,
   "metadata": {},
   "outputs": [],
   "source": [
    "df_venda.info()"
   ]
  },
  {
   "cell_type": "code",
   "execution_count": null,
   "metadata": {},
   "outputs": [],
   "source": [
    "# Separar X e y\n",
    "X_regressao = df_venda.drop('Valor', axis = 1)\n",
    "y_regressao = df_venda[['Valor']]\n",
    "\n",
    "# Separar X e y em treinamento (80%), validação (10%) e teste (10%)\n",
    "X_train_regressao, X_temp, y_train_regressao, y_temp = train_test_split(X_regressao, y_regressao, test_size=0.2, random_state=42)\n",
    "X_val_regressao, X_test_regressao, y_val_regressao, y_test_regressao = train_test_split(X_temp, y_temp, test_size=0.5, random_state=42)\n",
    "\n",
    "# Normalizar X e y\n",
    "scaler_X_regressao = MinMaxScaler()\n",
    "X_regressao = scaler_X_regressao.fit_transform(X_regressao)\n",
    "\n",
    "scaler_y_regressao = MinMaxScaler()\n",
    "y_regressao = scaler_y_regressao.fit_transform(y_regressao)\n",
    "\n",
    "\n",
    "# Exibe as 5 primeiro linhas do df_venda\n",
    "df_venda.head()"
   ]
  },
  {
   "cell_type": "markdown",
   "metadata": {},
   "source": [
    "Criar modelo e Treinar o modelo"
   ]
  },
  {
   "cell_type": "code",
   "execution_count": null,
   "metadata": {},
   "outputs": [],
   "source": [
    "# Criar modelo\n",
    "model_regressao = Sequential()\n",
    "model_regressao.add(Input(shape=(X_train_regressao.shape[1])))  # Camada de entrada\n",
    "\n",
    "model_regressao.add(Dense(50, activation='relu'))\n",
    "\n",
    "model_regressao.add(Dense(50, activation='relu'))\n",
    "\n",
    "model_regressao.add(Dense(50, activation='relu'))\n",
    "\n",
    "model_regressao.add(Dense(50, activation='relu'))\n",
    "\n",
    "model_regressao.add(Dense(50, activation='relu'))\n",
    "\n",
    "model_regressao.add(Dense(50, activation='relu'))\n",
    "\n",
    "model_regressao.add(Dense(1, activation='linear'))  # Saída linear para regressão\n",
    "\n",
    "# Compilar modelo\n",
    "model_regressao.compile(loss='mean_squared_error', optimizer='adam')\n",
    "\n",
    "# Configurar Early Stopping ##Depois de 10 epochas o modelo não melhorar vai parar de treinar. Verbose=1 vai mostrar as epochas.\n",
    "early_stopping = EarlyStopping(monitor='val_loss', patience=15, verbose=1, restore_best_weights=True)\n",
    "\n",
    "# Treinar modelo com o Early Stopping como callback.\n",
    "history = model_regressao.fit(X_train_regressao,\n",
    "                    y_train_regressao,\n",
    "                    epochs=40,\n",
    "                    batch_size=32,\n",
    "                    validation_data=(X_val_regressao, y_val_regressao),\n",
    "                    callbacks=[early_stopping])\n",
    "\n",
    "\n",
    "clear_output(wait=True)\n",
    "\n",
    "\n",
    "def plot_loss(history):\n",
    "    plt.figure(figsize=(12, 6))\n",
    "    plt.plot(history.history['loss'], label='Treinamento')\n",
    "    plt.plot(history.history['val_loss'], label='Validação')\n",
    "    plt.title('Loss ao Longo das Épocas')\n",
    "    plt.xlabel('Épocas')\n",
    "    plt.ylabel('Loss')\n",
    "    plt.legend()\n",
    "    plt.show()\n",
    "\n",
    "plot_loss(history)"
   ]
  },
  {
   "cell_type": "markdown",
   "metadata": {},
   "source": [
    "Metricas e Avaliação do Modelo"
   ]
  },
  {
   "cell_type": "code",
   "execution_count": null,
   "metadata": {},
   "outputs": [],
   "source": [
    "def metricas_regressao(X_test, y_test, scaler, model):\n",
    "    \"\"\"\n",
    "    Avalia métricas de regressão para um modelo e conjunto de teste fornecidos.\n",
    "\n",
    "    Parâmetros:\n",
    "    - X_test: características do conjunto de teste.\n",
    "    - y_test: rótulos verdadeiros do conjunto de teste.\n",
    "    - scaler_y: scaler utilizado para normalizar a variável alvo.\n",
    "    - model: modelo treinado para fazer previsões.\n",
    "\n",
    "    Retorna:\n",
    "    Métricas de avaliação de regressão impressas.\n",
    "    \"\"\"\n",
    "\n",
    "    # 1. Fazer previsões usando o modelo fornecido\n",
    "    predict = model.predict(X_test)\n",
    "\n",
    "    # 2. Inverter a transformação para obter os valores originais (não normalizados)\n",
    "    predict = scaler_y_regressao.inverse_transform(predict)\n",
    "    real = scaler_y_regressao.inverse_transform(y_test)\n",
    "\n",
    "    # 3. Calcular R2 e R2 ajustado\n",
    "    k = X_test.shape[1]\n",
    "    n = len(X_test)\n",
    "    r2 = sm.r2_score(real, predict)\n",
    "    adj_r2 = 1 - (1 - r2) * (n - 1) / (n - k - 1)  # fórmula para R2 ajustado\n",
    "\n",
    "\n",
    "    # 4. Imprimir métricas\n",
    "    print('Root Mean Square Error:', round(np.sqrt(np.mean(np.array(predict) - np.array(real))**2), 2))\n",
    "    print('Mean Square Error:', round(sm.mean_squared_error(real, predict), 2))\n",
    "    print('Mean Absolut Error:', round(sm.mean_absolute_error(real, predict), 2))\n",
    "    print('Median Absolut Error:', round(sm.median_absolute_error(real, predict), 2))\n",
    "    print('Explain Variance Score:', round(sm.explained_variance_score(real, predict) * 100, 2))\n",
    "    print('R2 score:', round(sm.r2_score(real, predict) * 100, 2))\n",
    "    print('Adjusted R2 =', round(adj_r2, 3) * 100)"
   ]
  },
  {
   "cell_type": "code",
   "execution_count": null,
   "metadata": {},
   "outputs": [],
   "source": [
    "metricas_regressao(X_test_regressao, y_test_regressao, scaler_y_regressao, model_regressao)"
   ]
  },
  {
   "cell_type": "code",
   "execution_count": null,
   "metadata": {},
   "outputs": [],
   "source": [
    "predict = model_regressao.predict(X_test_regressao)\n",
    "\n",
    "# Desnormaliza o y_test na variável y_desnormalizado\n",
    "y_test_regressao_desnormalizado = scaler_y_regressao.inverse_transform(y_test_regressao)\n",
    "\n",
    "# Desnormaliza o predict na variável predict_desnormalizado\n",
    "predict_desnormalizado = scaler_y_regressao.inverse_transform(predict)\n",
    "\n",
    "#Gráfico\n",
    "grafico_x = [x for x in range(1,len(y_test_regressao_desnormalizado)+1)]\n",
    "\n",
    "plt.plot(grafico_x, y_test_regressao_desnormalizado, label='Real')\n",
    "plt.plot(grafico_x, predict_desnormalizado, label='Predito')\n",
    "\n",
    "plt.title('Comparando valores reais e preditos de teste')\n",
    "plt.legend()\n",
    "\n",
    "plt.ylabel('Valor')\n",
    "\n",
    "plt.show()"
   ]
  },
  {
   "cell_type": "markdown",
   "metadata": {},
   "source": [
    "Análise Descritiva dos dados de imóveis para a Aluguel"
   ]
  },
  {
   "cell_type": "code",
   "execution_count": null,
   "metadata": {},
   "outputs": [],
   "source": [
    "#Base Venda\n",
    "df_aluguel = df[df['operacao'] == 'aluguel']"
   ]
  },
  {
   "cell_type": "code",
   "execution_count": null,
   "metadata": {},
   "outputs": [],
   "source": [
    "df_venda.head()"
   ]
  },
  {
   "cell_type": "code",
   "execution_count": null,
   "metadata": {},
   "outputs": [],
   "source": [
    "len(df_venda)"
   ]
  },
  {
   "cell_type": "code",
   "execution_count": null,
   "metadata": {},
   "outputs": [],
   "source": [
    "df_venda.info()"
   ]
  },
  {
   "cell_type": "markdown",
   "metadata": {},
   "source": [
    "Removendo as colunas que eu considero irrelevante para o modelo"
   ]
  },
  {
   "cell_type": "code",
   "execution_count": null,
   "metadata": {},
   "outputs": [],
   "source": [
    "df_venda = df_venda.drop(columns=[ 'index', 'Título', 'cidade', 'imobiliaria', 'creci', 'operacao', 'Aquecimento Solar', 'Circuito de TV', 'Gerador de Energia', 'Cobertura Coletiva', 'Guarita', 'Interfone', 'Mobiliado', 'Despensa', 'Escritório', 'Gás Canalizado', 'Jardim', 'Lavabo', 'Lazer no Pilotis',  'Poço Artesiano', 'Portão Eletrônico', 'Quadra Esportiva', 'Sala de Jogos', 'Salão de Jogos', 'Salão Gourmet', 'Sauna', 'SPA', 'Área de Serviço Coberta', 'Piso em Porcelanato', 'Vista Livre', 'Home Theater', 'Aceita Pet' ])\n",
    "df_venda"
   ]
  },
  {
   "cell_type": "code",
   "execution_count": null,
   "metadata": {},
   "outputs": [],
   "source": [
    "df_venda.info()"
   ]
  },
  {
   "cell_type": "code",
   "execution_count": null,
   "metadata": {},
   "outputs": [],
   "source": [
    "df_venda['tipo'].value_counts()"
   ]
  },
  {
   "cell_type": "code",
   "execution_count": null,
   "metadata": {},
   "outputs": [],
   "source": [
    "# Configurar para exibir todas as linhas\n",
    "pd.set_option('display.max_rows', None)"
   ]
  },
  {
   "cell_type": "code",
   "execution_count": null,
   "metadata": {},
   "outputs": [],
   "source": [
    "df_venda['regiao'].value_counts()"
   ]
  },
  {
   "cell_type": "markdown",
   "metadata": {},
   "source": [
    "Transformando as string em numérico"
   ]
  },
  {
   "cell_type": "code",
   "execution_count": null,
   "metadata": {},
   "outputs": [],
   "source": [
    "from sklearn.preprocessing import LabelEncoder\n",
    "\n",
    "# Criar uma instância do LabelEncoder\n",
    "label_encoder = LabelEncoder()\n",
    "\n",
    "# Ajustar o encoder aos valores da coluna região\n",
    "df_venda['regiao_encoded'] = label_encoder.fit_transform(df_venda['regiao'])\n",
    "\n",
    "# Mapear os valores originais para os valores codificados\n",
    "mapeamento = dict(zip(label_encoder.classes_, label_encoder.transform(label_encoder.classes_)))\n",
    "\n",
    "# Mostrar o mapeamento\n",
    "print(\"Mapeamento:\")\n",
    "for regiao, encoded_value in mapeamento.items():\n",
    "    print(f\"{regiao}: {encoded_value}\")"
   ]
  },
  {
   "cell_type": "code",
   "execution_count": null,
   "metadata": {},
   "outputs": [],
   "source": [
    "# Ajustar o encoder aos valores da coluna região\n",
    "df_venda['tipo_encoded'] = label_encoder.fit_transform(df_venda['tipo'])\n",
    "\n",
    "# Mapear os valores originais para os valores codificados\n",
    "mapeamento = dict(zip(label_encoder.classes_, label_encoder.transform(label_encoder.classes_)))\n",
    "\n",
    "# Mostrar o mapeamento\n",
    "print(\"Mapeamento:\")\n",
    "for tipo, encoded_value in mapeamento.items():\n",
    "    print(f\"{tipo}: {encoded_value}\")"
   ]
  },
  {
   "cell_type": "markdown",
   "metadata": {},
   "source": [
    "Separar o X e o y, Normalizando os dados, e separar os dados em treinamento, teste e validação"
   ]
  },
  {
   "cell_type": "code",
   "execution_count": null,
   "metadata": {},
   "outputs": [],
   "source": [
    "df_venda = df_venda.drop(columns=['regiao', 'tipo'])"
   ]
  },
  {
   "cell_type": "code",
   "execution_count": null,
   "metadata": {},
   "outputs": [],
   "source": [
    "# Separar X e y\n",
    "X_regressao = df_venda.drop('Valor', axis=1)\n",
    "y_regressao = df_venda['Valor']\n",
    "\n",
    "# Separar X e y em treinamento (80%), validação (10%) e teste (10%)\n",
    "X_train_regressao, X_temp, y_train_regressao, y_temp = train_test_split(X_regressao, y_regressao, test_size=0.2, random_state=42)\n",
    "X_val_regressao, X_test_regressao, y_val_regressao, y_test_regressao = train_test_split(X_temp, y_temp, test_size=0.5, random_state=42)\n",
    "\n",
    "# Normalizar X apenas\n",
    "scaler = MinMaxScaler()\n",
    "X_train_regressao = scaler.fit_transform(X_train_regressao)\n",
    "X_val_regressao = scaler.transform(X_val_regressao)\n",
    "X_test_regressao = scaler.transform(X_test_regressao)\n",
    "\n",
    "# Exibe as 5 primeiro linhas do df_venda\n",
    "df_venda.head()"
   ]
  },
  {
   "cell_type": "markdown",
   "metadata": {},
   "source": [
    "Criar modelo e Treinar o modelo"
   ]
  },
  {
   "cell_type": "code",
   "execution_count": null,
   "metadata": {},
   "outputs": [],
   "source": [
    "# Criar modelo\n",
    "model_regressao = Sequential()\n",
    "model_regressao.add(Input(shape=(X_train_regressao.shape[1])))  # Camada de entrada\n",
    "\n",
    "model_regressao.add(Dense(50, activation='relu'))\n",
    "\n",
    "model_regressao.add(Dense(50, activation='relu'))\n",
    "\n",
    "model_regressao.add(Dense(50, activation='relu'))\n",
    "\n",
    "model_regressao.add(Dense(50, activation='relu'))\n",
    "\n",
    "model_regressao.add(Dense(50, activation='relu'))\n",
    "\n",
    "model_regressao.add(Dense(50, activation='relu'))\n",
    "\n",
    "model_regressao.add(Dense(1, activation='linear'))  # Saída linear para regressão\n",
    "\n",
    "# Compilar modelo\n",
    "model_regressao.compile(loss='mean_squared_error', optimizer='adam')\n",
    "\n",
    "# Configurar Early Stopping ##Depois de 10 epochas o modelo não melhorar vai parar de treinar. Verbose=1 vai mostrar as epochas.\n",
    "early_stopping = EarlyStopping(monitor='val_loss', patience=15, verbose=1, restore_best_weights=True)\n",
    "\n",
    "# Treinar modelo com o Early Stopping como callback.\n",
    "history = model_regressao.fit(X_train_regressao,\n",
    "                    y_train_regressao,\n",
    "                    epochs=40,\n",
    "                    batch_size=32,\n",
    "                    validation_data=(X_val_regressao, y_val_regressao),\n",
    "                    callbacks=[early_stopping])\n",
    "\n",
    "\n",
    "clear_output(wait=True)\n",
    "\n",
    "\n",
    "def plot_loss(history):\n",
    "    plt.figure(figsize=(12, 6))\n",
    "    plt.plot(history.history['loss'], label='Treinamento')\n",
    "    plt.plot(history.history['val_loss'], label='Validação')\n",
    "    plt.title('Loss ao Longo das Épocas')\n",
    "    plt.xlabel('Épocas')\n",
    "    plt.ylabel('Loss')\n",
    "    plt.legend()\n",
    "    plt.show()\n",
    "\n",
    "plot_loss(history)"
   ]
  },
  {
   "cell_type": "markdown",
   "metadata": {},
   "source": [
    "Metricas e Avaliação do Modelo"
   ]
  },
  {
   "cell_type": "code",
   "execution_count": null,
   "metadata": {},
   "outputs": [],
   "source": [
    "def metricas_regressao(X_test, y_test, scaler, model):\n",
    "    \"\"\"\n",
    "    Avalia métricas de regressão para um modelo e conjunto de teste fornecidos.\n",
    "\n",
    "    Parâmetros:\n",
    "    - X_test: características do conjunto de teste.\n",
    "    - y_test: rótulos verdadeiros do conjunto de teste.\n",
    "    - scaler_y: scaler utilizado para normalizar a variável alvo.\n",
    "    - model: modelo treinado para fazer previsões.\n",
    "\n",
    "    Retorna:\n",
    "    Métricas de avaliação de regressão impressas.\n",
    "    \"\"\"\n",
    "\n",
    "    # 1. Fazer previsões usando o modelo fornecido\n",
    "    predict = model.predict(X_test)\n",
    "\n",
    "    # 2. Inverter a transformação para obter os valores originais (não normalizados)\n",
    "    predict = scaler_y.inverse_transform(predict)\n",
    "    real = scaler_y.inverse_transform(y_test)\n",
    "\n",
    "    # 3. Calcular R2 e R2 ajustado\n",
    "    k = X_test.shape[1]\n",
    "    n = len(X_test)\n",
    "    r2 = sm.r2_score(real, predict)\n",
    "    adj_r2 = 1 - (1 - r2) * (n - 1) / (n - k - 1)  # fórmula para R2 ajustado\n",
    "\n",
    "\n",
    "    # 4. Imprimir métricas\n",
    "    print('Root Mean Square Error:', round(np.sqrt(np.mean(np.array(predict) - np.array(real))**2), 2))\n",
    "    print('Mean Square Error:', round(sm.mean_squared_error(real, predict), 2))\n",
    "    print('Mean Absolut Error:', round(sm.mean_absolute_error(real, predict), 2))\n",
    "    print('Median Absolut Error:', round(sm.median_absolute_error(real, predict), 2))\n",
    "    print('Explain Variance Score:', round(sm.explained_variance_score(real, predict) * 100, 2))\n",
    "    print('R2 score:', round(sm.r2_score(real, predict) * 100, 2))\n",
    "    print('Adjusted R2 =', round(adj_r2, 3) * 100)"
   ]
  },
  {
   "cell_type": "code",
   "execution_count": null,
   "metadata": {},
   "outputs": [],
   "source": [
    "metricas_regressao(X_test_regressao, y_test_regressao, scaler, model_regressao)"
   ]
  },
  {
   "cell_type": "code",
   "execution_count": null,
   "metadata": {},
   "outputs": [],
   "source": [
    "#Gráfico\n",
    "grafico_x = [x for x in range(1,len(y_test_regressao_desnormalizado)+1)]\n",
    "\n",
    "plt.plot(grafico_x, y_test_regressao_desnormalizado, label='Real')\n",
    "plt.plot(grafico_x, predict_desnormalizado, label='Predito')\n",
    "\n",
    "plt.title('Comparando valores reais e preditos de teste')\n",
    "plt.legend()\n",
    "\n",
    "plt.ylabel('Valor')\n",
    "\n",
    "plt.show()"
   ]
  }
 ],
 "metadata": {
  "kernelspec": {
   "display_name": "Python 3",
   "language": "python",
   "name": "python3"
  },
  "language_info": {
   "codemirror_mode": {
    "name": "ipython",
    "version": 3
   },
   "file_extension": ".py",
   "mimetype": "text/x-python",
   "name": "python",
   "nbconvert_exporter": "python",
   "pygments_lexer": "ipython3",
   "version": "3.10.4"
  }
 },
 "nbformat": 4,
 "nbformat_minor": 2
}
